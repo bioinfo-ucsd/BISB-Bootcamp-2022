{
 "cells": [
  {
   "cell_type": "markdown",
   "metadata": {},
   "source": [
    "# Activity 2: Whole-Genome Sequencing (WGS) Analysis\n",
    "\n",
    "In this activity, we will analyze whole-genome sequencing data from the [SK-BR-3 breast cancer cell line](https://www.cellosaurus.org/CVCL_0033). We have datasets from Illumina and Oxford Nanopore Technologies (ont) sequencing platforms.\n",
    "\n",
    "We will perform the following steps:\n",
    "\n",
    "1. Compare read statistics between sequencing platforms\n",
    "2. Evaluate alignment quality\n",
    "3. Call structural variants"
   ]
  },
  {
   "cell_type": "markdown",
   "metadata": {},
   "source": [
    "\n",
    "## Before you start\n",
    "\n",
    "Make sure...\n",
    "\n",
    "1. You are in jupyter notebook mode, not jupyter lab \n",
    "2. You have the bootcamp kernel active. If not, do `Kernel` > `Change Kernel` > `bootcamp` \n",
    "3. You run the cells below to navigate to the correct directory and prevent output wrapping so we can easily visualize the outputs of our commands."
   ]
  },
  {
   "cell_type": "code",
   "execution_count": null,
   "metadata": {
    "vscode": {
     "languageId": "shellscript"
    }
   },
   "outputs": [],
   "source": [
    "%% bash\n",
    "\n",
    "cd ~/bootcamp-02-sequencing/02-whole-genome"
   ]
  },
  {
   "cell_type": "code",
   "execution_count": null,
   "metadata": {
    "vscode": {
     "languageId": "shellscript"
    }
   },
   "outputs": [],
   "source": [
    "%%html\n",
    "\n",
    "<style>\n",
    "div.output_area pre {\n",
    "    white-space: pre;\n",
    "}\n",
    "</style>"
   ]
  },
  {
   "cell_type": "markdown",
   "metadata": {},
   "source": [
    "\n",
    "## 1. Compare read statistics between sequencing platforms\n",
    "\n",
    "You can find FASTQ files containing our WGS reads in the directory shown below\n",
    "\n",
    "```bash\n",
    "data/\n",
    "├── wgs_illumina_R1.fastq.gz\n",
    "├── wgs_illumina_R2.fastq.gz\n",
    "├── wgs_ont.fastq.gz\n",
    "└── wgs_pacbio.fastq.gz\n",
    "```\n",
    "\n",
    "Let's compare the reads between different platforms.  We have already run `fastqc` and saved the reports. You can find the resultant HTML files at `~/bootcamp-02-sequencing/02-whole-genome/data/wgs*fastqc.html` and open them as you did in the first activity.\n",
    "\n",
    "To generate a single report for all the FASTQ files, we can use the amazing [multiqc](https://multiqc.info/).\n"
   ]
  },
  {
   "cell_type": "code",
   "execution_count": null,
   "metadata": {
    "vscode": {
     "languageId": "shellscript"
    }
   },
   "outputs": [],
   "source": [
    "%%bash\n",
    "\n",
    "multiqc data"
   ]
  },
  {
   "cell_type": "markdown",
   "metadata": {},
   "source": [
    "\n",
    "Take a look at the reports and consider the following questions\n",
    "\n",
    "1. Which platform has the longest reads? \n",
    "2. Which platform has the highest quality reads? \n",
    "3. What advantages/disadvantages do you think these features might have for variant calling?\n",
    "\n",
    "While these three platforms have been the most commmonly used in the last 5-10 years (with Illumina occupying 90% of the market), sequencing technology is currently experiencing exciting growth! You can find a comprehensive and up-to-date comparison of current platforms on [Albert Vilella](https://twitter.com/albertvilella?s=21&t=qY5fTbtw_DsgCnpOqBQPdg)'s great [Next-Generation-Sequencing Google Sheet](https://docs.google.com/spreadsheets/d/1GMMfhyLK0-q8XkIo3YxlWaZA5vVMuhU1kg41g4xLkXc/edit?hl=en_GB&hl=en_GB#gid=1569422585)."
   ]
  },
  {
   "cell_type": "markdown",
   "metadata": {},
   "source": [
    "## 2. Evaluate alignment quality\n",
    "\n",
    "We have already aligned the reads to the genome, which are stored in the BAM files shown below.\n",
    "\n",
    "```bash\n",
    "data/\n",
    "├── wgs_illumina.bam\n",
    "└── wgs_ont.bam\n",
    "```\n",
    "\n",
    "Let's take a look at some alignment statistics using [`samtools`](http://www.htslib.org/doc/samtools.html). Running `flagstat` will take a couple minutes on each of these files.\n",
    "\n",
    "Considering the following questions\n",
    "\n",
    "1. Which types of flags are present at higher/lower rates between platforms? Why do you think this is?"
   ]
  },
  {
   "cell_type": "code",
   "execution_count": null,
   "metadata": {
    "vscode": {
     "languageId": "shellscript"
    }
   },
   "outputs": [],
   "source": [
    "%%time\n",
    "%%bash\n",
    "\n",
    "# use 8 threads to speed up computation\n",
    "samtools flagstat -@ 8 data/wgs_illumina.bam "
   ]
  },
  {
   "cell_type": "code",
   "execution_count": null,
   "metadata": {},
   "outputs": [],
   "source": [
    "%%time\n",
    "%%bash\n",
    "\n",
    "# use 8 threads to speed up computation\n",
    "samtools flagstat -@ 8 data/wgs_ont.bam "
   ]
  },
  {
   "cell_type": "markdown",
   "metadata": {},
   "source": [
    "### WGS aligment visualization\n",
    "\n",
    "Like we did with our whole-exome sequencing data, let's visualize the alignment along a known tumor suppressor *TP53* (aka p53) using the interactive genomics viewer (IGV). Run the code cell below. After the viewer loads, zoom in to view the reads and coverage. (We won't load the PacBio BAM since the viewer will time-out)"
   ]
  },
  {
   "cell_type": "code",
   "execution_count": null,
   "metadata": {},
   "outputs": [],
   "source": [
    "# Must be in Jupyter notebook (not lab) for this to work\n",
    "import igv_notebook\n",
    "import os\n",
    "igv_notebook.init() # initialize igv\n",
    "\n",
    "browser = igv_notebook.Browser(\n",
    "    {\n",
    "        \"genome\": \"hg19\",\n",
    "        \"locus\": \"17:7,569,893-7,579,467\" # TP53 gene\n",
    "    }\n",
    ")\n",
    "\n",
    "browser.load_track(\n",
    "    {\n",
    "        \"name\": \"Illumina\",\n",
    "        \"path\": \"data/wgs_illumina.bam\",\n",
    "        \"indexPath\": \"data/wgs_illumina.bam.bai\",\n",
    "        \"format\": \"bam\",\n",
    "        \"type\": \"alignment\"\n",
    "    })\n",
    "\n",
    "\n",
    "browser.load_track(\n",
    "    {\n",
    "        \"name\": \"ONT\",\n",
    "        \"path\": \"data/wgs_ont.bam\",\n",
    "        \"indexPath\": \"data/wgs_ont.bam.bai\",\n",
    "        \"format\": \"bam\",\n",
    "        \"type\": \"alignment\"\n",
    "    })"
   ]
  },
  {
   "cell_type": "markdown",
   "metadata": {},
   "source": [
    "## 3. Call structural variants (SVs) from long- and short-read alignments\n",
    "\n",
    "One major advantage of long-read sequencing is the ability to call structural variants (SVs) with higher accuracy. We have run  the long-read structural variant caller [Sniffles2](https://github.com/fritzsedlazeck/Sniffles) on the nanpore BAM file to call SVs. To compare to SVs calls from short-read data, we used the short-read structural variant caller [Manta](https://github.com/Illumina/manta) on the Illumina BAM file. The outputs of these runs are stored in the VCF files shown below.\n",
    "\n",
    "```bash\n",
    "data/\n",
    "├── wgs_illumina_manta.vcf.gz\n",
    "└── wgs_ont_sniffles.vcf.gz\n",
    "```\n",
    "\n",
    "Let's first compare the SVs called on the short and long reads. From what you've learned so far, write your own code below to compare the VCFs. *Hint*: use [`bcftools`](http://samtools.github.io/bcftools/bcftools.html) \n",
    "\n",
    "Consider the following questions:\n",
    "\n",
    "1. How are SVs annotated in each VCF file?\n",
    "2. How many SVs were discovered from each alignment?\n",
    "3. Where are largest SVs? Where are the smallest"
   ]
  },
  {
   "cell_type": "code",
   "execution_count": null,
   "metadata": {},
   "outputs": [],
   "source": [
    "# write your code here"
   ]
  }
 ],
 "metadata": {
  "kernelspec": {
   "display_name": "Python 3 (ipykernel)",
   "language": "python",
   "name": "python3"
  },
  "language_info": {
   "codemirror_mode": {
    "name": "ipython",
    "version": 3
   },
   "file_extension": ".py",
   "mimetype": "text/x-python",
   "name": "python",
   "nbconvert_exporter": "python",
   "pygments_lexer": "ipython3",
   "version": "3.9.12"
  },
  "vscode": {
   "interpreter": {
    "hash": "72abae454d6de6e576efbf7eef3cf7d06f86d3038a78410abb6990d80ac8b101"
   }
  }
 },
 "nbformat": 4,
 "nbformat_minor": 2
}
