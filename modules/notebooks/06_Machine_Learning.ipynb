{
 "cells": [
  {
   "cell_type": "code",
   "execution_count": 122,
   "id": "40b89d9e",
   "metadata": {},
   "outputs": [],
   "source": [
    "import numpy as np\n",
    "\n",
    "import matplotlib.pyplot as plt\n",
    "import seaborn as sns\n",
    "\n",
    "import scanpy as sc\n",
    "import scipy.stats as stats"
   ]
  },
  {
   "cell_type": "code",
   "execution_count": 18,
   "id": "9d7dc074",
   "metadata": {},
   "outputs": [],
   "source": [
    "# load the dataset\n",
    "adata = sc.datasets.pbmc3k()"
   ]
  },
  {
   "cell_type": "markdown",
   "id": "2bf7d75e",
   "metadata": {},
   "source": [
    "Single-cell specific preprocessing from: https://scanpy-tutorials.readthedocs.io/en/latest/pbmc3k.html"
   ]
  },
  {
   "cell_type": "code",
   "execution_count": 22,
   "id": "787f3277",
   "metadata": {},
   "outputs": [
    {
     "name": "stderr",
     "output_type": "stream",
     "text": [
      "/home/hratch/anaconda3/envs/bootcamp/lib/python3.9/site-packages/scanpy/preprocessing/_normalization.py:170: UserWarning: Received a view of an AnnData. Making a copy.\n",
      "  view_to_actual(adata)\n"
     ]
    }
   ],
   "source": [
    "adata.var_names_make_unique()\n",
    "sc.pp.filter_cells(adata, min_genes=200)\n",
    "sc.pp.filter_genes(adata, min_cells=3)\n",
    "\n",
    "# QC\n",
    "adata.var['mt'] = adata.var_names.str.startswith('MT-')  # annotate the group of mitochondrial genes as 'mt'\n",
    "sc.pp.calculate_qc_metrics(adata, qc_vars=['mt'], percent_top=None, log1p=False, inplace=True)\n",
    "adata = adata[adata.obs.n_genes_by_counts < 2500, :]\n",
    "adata = adata[adata.obs.pct_counts_mt < 5, :]\n",
    "\n",
    "sc.pp.normalize_total(adata, target_sum=1e6) # normalize to counts-per-million (CPM)\n",
    "sc.pp.log1p(adata) # logarithmize\n",
    "\n",
    "# filter for HVGs\n",
    "sc.pp.highly_variable_genes(adata, min_mean=0.0125, max_mean=3, min_disp=0.5)\n",
    "adata = adata[:, adata.var.highly_variable]\n",
    "\n",
    "\n",
    "# transfer annotations of processed data\n",
    "processed_data = sc.datasets.pbmc3k_processed()\n",
    "adata.obs = processed_data.obs"
   ]
  },
  {
   "cell_type": "code",
   "execution_count": 46,
   "id": "fd7d3271",
   "metadata": {},
   "outputs": [],
   "source": [
    "expr = adata.to_df().T\n",
    "cell_md = adata.obs"
   ]
  },
  {
   "cell_type": "markdown",
   "id": "8903d593",
   "metadata": {},
   "source": [
    "The expression matrix is a gene by cell matrix containing log-normalized UMI counts of single-cell RNAseq measurements"
   ]
  },
  {
   "cell_type": "code",
   "execution_count": 54,
   "id": "adb3a802",
   "metadata": {},
   "outputs": [
    {
     "data": {
      "text/html": [
       "<div>\n",
       "<style scoped>\n",
       "    .dataframe tbody tr th:only-of-type {\n",
       "        vertical-align: middle;\n",
       "    }\n",
       "\n",
       "    .dataframe tbody tr th {\n",
       "        vertical-align: top;\n",
       "    }\n",
       "\n",
       "    .dataframe thead th {\n",
       "        text-align: right;\n",
       "    }\n",
       "</style>\n",
       "<table border=\"1\" class=\"dataframe\">\n",
       "  <thead>\n",
       "    <tr style=\"text-align: right;\">\n",
       "      <th>index</th>\n",
       "      <th>AAACATACAACCAC-1</th>\n",
       "      <th>AAACATTGAGCTAC-1</th>\n",
       "      <th>AAACATTGATCAGC-1</th>\n",
       "      <th>AAACCGTGCTTCCG-1</th>\n",
       "      <th>AAACCGTGTATGCG-1</th>\n",
       "      <th>AAACGCACTGGTAC-1</th>\n",
       "      <th>AAACGCTGACCAGT-1</th>\n",
       "      <th>AAACGCTGGTTCTT-1</th>\n",
       "      <th>AAACGCTGTAGCCA-1</th>\n",
       "      <th>AAACGCTGTTTCTG-1</th>\n",
       "      <th>...</th>\n",
       "      <th>TTTCAGTGTCACGA-1</th>\n",
       "      <th>TTTCAGTGTCTATC-1</th>\n",
       "      <th>TTTCAGTGTGCAGT-1</th>\n",
       "      <th>TTTCCAGAGGTGAG-1</th>\n",
       "      <th>TTTCGAACACCTGA-1</th>\n",
       "      <th>TTTCGAACTCTCAT-1</th>\n",
       "      <th>TTTCTACTGAGGCA-1</th>\n",
       "      <th>TTTCTACTTCCTCG-1</th>\n",
       "      <th>TTTGCATGAGAGGC-1</th>\n",
       "      <th>TTTGCATGCCTCAC-1</th>\n",
       "    </tr>\n",
       "    <tr>\n",
       "      <th>index</th>\n",
       "      <th></th>\n",
       "      <th></th>\n",
       "      <th></th>\n",
       "      <th></th>\n",
       "      <th></th>\n",
       "      <th></th>\n",
       "      <th></th>\n",
       "      <th></th>\n",
       "      <th></th>\n",
       "      <th></th>\n",
       "      <th></th>\n",
       "      <th></th>\n",
       "      <th></th>\n",
       "      <th></th>\n",
       "      <th></th>\n",
       "      <th></th>\n",
       "      <th></th>\n",
       "      <th></th>\n",
       "      <th></th>\n",
       "      <th></th>\n",
       "      <th></th>\n",
       "    </tr>\n",
       "  </thead>\n",
       "  <tbody>\n",
       "    <tr>\n",
       "      <th>AGRN</th>\n",
       "      <td>0.0</td>\n",
       "      <td>0.0</td>\n",
       "      <td>0.0</td>\n",
       "      <td>0.0</td>\n",
       "      <td>0.0</td>\n",
       "      <td>0.0</td>\n",
       "      <td>0.0</td>\n",
       "      <td>0.0</td>\n",
       "      <td>0.0</td>\n",
       "      <td>0.0</td>\n",
       "      <td>...</td>\n",
       "      <td>0.0</td>\n",
       "      <td>0.0</td>\n",
       "      <td>0.0</td>\n",
       "      <td>0.0</td>\n",
       "      <td>0.0</td>\n",
       "      <td>0.0</td>\n",
       "      <td>0.0</td>\n",
       "      <td>0.0</td>\n",
       "      <td>0.0</td>\n",
       "      <td>0.0</td>\n",
       "    </tr>\n",
       "    <tr>\n",
       "      <th>ATAD3C</th>\n",
       "      <td>0.0</td>\n",
       "      <td>0.0</td>\n",
       "      <td>0.0</td>\n",
       "      <td>0.0</td>\n",
       "      <td>0.0</td>\n",
       "      <td>0.0</td>\n",
       "      <td>0.0</td>\n",
       "      <td>0.0</td>\n",
       "      <td>0.0</td>\n",
       "      <td>0.0</td>\n",
       "      <td>...</td>\n",
       "      <td>0.0</td>\n",
       "      <td>0.0</td>\n",
       "      <td>0.0</td>\n",
       "      <td>0.0</td>\n",
       "      <td>0.0</td>\n",
       "      <td>0.0</td>\n",
       "      <td>0.0</td>\n",
       "      <td>0.0</td>\n",
       "      <td>0.0</td>\n",
       "      <td>0.0</td>\n",
       "    </tr>\n",
       "    <tr>\n",
       "      <th>RP1-140A9.1</th>\n",
       "      <td>0.0</td>\n",
       "      <td>0.0</td>\n",
       "      <td>0.0</td>\n",
       "      <td>0.0</td>\n",
       "      <td>0.0</td>\n",
       "      <td>0.0</td>\n",
       "      <td>0.0</td>\n",
       "      <td>0.0</td>\n",
       "      <td>0.0</td>\n",
       "      <td>0.0</td>\n",
       "      <td>...</td>\n",
       "      <td>0.0</td>\n",
       "      <td>0.0</td>\n",
       "      <td>0.0</td>\n",
       "      <td>0.0</td>\n",
       "      <td>0.0</td>\n",
       "      <td>0.0</td>\n",
       "      <td>0.0</td>\n",
       "      <td>0.0</td>\n",
       "      <td>0.0</td>\n",
       "      <td>0.0</td>\n",
       "    </tr>\n",
       "    <tr>\n",
       "      <th>RP5-892K4.1</th>\n",
       "      <td>0.0</td>\n",
       "      <td>0.0</td>\n",
       "      <td>0.0</td>\n",
       "      <td>0.0</td>\n",
       "      <td>0.0</td>\n",
       "      <td>0.0</td>\n",
       "      <td>0.0</td>\n",
       "      <td>0.0</td>\n",
       "      <td>0.0</td>\n",
       "      <td>0.0</td>\n",
       "      <td>...</td>\n",
       "      <td>0.0</td>\n",
       "      <td>0.0</td>\n",
       "      <td>0.0</td>\n",
       "      <td>0.0</td>\n",
       "      <td>0.0</td>\n",
       "      <td>0.0</td>\n",
       "      <td>0.0</td>\n",
       "      <td>0.0</td>\n",
       "      <td>0.0</td>\n",
       "      <td>0.0</td>\n",
       "    </tr>\n",
       "    <tr>\n",
       "      <th>PLCH2</th>\n",
       "      <td>0.0</td>\n",
       "      <td>0.0</td>\n",
       "      <td>0.0</td>\n",
       "      <td>0.0</td>\n",
       "      <td>0.0</td>\n",
       "      <td>0.0</td>\n",
       "      <td>0.0</td>\n",
       "      <td>0.0</td>\n",
       "      <td>0.0</td>\n",
       "      <td>0.0</td>\n",
       "      <td>...</td>\n",
       "      <td>0.0</td>\n",
       "      <td>0.0</td>\n",
       "      <td>0.0</td>\n",
       "      <td>0.0</td>\n",
       "      <td>0.0</td>\n",
       "      <td>0.0</td>\n",
       "      <td>0.0</td>\n",
       "      <td>0.0</td>\n",
       "      <td>0.0</td>\n",
       "      <td>0.0</td>\n",
       "    </tr>\n",
       "  </tbody>\n",
       "</table>\n",
       "<p>5 rows × 2638 columns</p>\n",
       "</div>"
      ],
      "text/plain": [
       "index        AAACATACAACCAC-1  AAACATTGAGCTAC-1  AAACATTGATCAGC-1  \\\n",
       "index                                                               \n",
       "AGRN                      0.0               0.0               0.0   \n",
       "ATAD3C                    0.0               0.0               0.0   \n",
       "RP1-140A9.1               0.0               0.0               0.0   \n",
       "RP5-892K4.1               0.0               0.0               0.0   \n",
       "PLCH2                     0.0               0.0               0.0   \n",
       "\n",
       "index        AAACCGTGCTTCCG-1  AAACCGTGTATGCG-1  AAACGCACTGGTAC-1  \\\n",
       "index                                                               \n",
       "AGRN                      0.0               0.0               0.0   \n",
       "ATAD3C                    0.0               0.0               0.0   \n",
       "RP1-140A9.1               0.0               0.0               0.0   \n",
       "RP5-892K4.1               0.0               0.0               0.0   \n",
       "PLCH2                     0.0               0.0               0.0   \n",
       "\n",
       "index        AAACGCTGACCAGT-1  AAACGCTGGTTCTT-1  AAACGCTGTAGCCA-1  \\\n",
       "index                                                               \n",
       "AGRN                      0.0               0.0               0.0   \n",
       "ATAD3C                    0.0               0.0               0.0   \n",
       "RP1-140A9.1               0.0               0.0               0.0   \n",
       "RP5-892K4.1               0.0               0.0               0.0   \n",
       "PLCH2                     0.0               0.0               0.0   \n",
       "\n",
       "index        AAACGCTGTTTCTG-1  ...  TTTCAGTGTCACGA-1  TTTCAGTGTCTATC-1  \\\n",
       "index                          ...                                       \n",
       "AGRN                      0.0  ...               0.0               0.0   \n",
       "ATAD3C                    0.0  ...               0.0               0.0   \n",
       "RP1-140A9.1               0.0  ...               0.0               0.0   \n",
       "RP5-892K4.1               0.0  ...               0.0               0.0   \n",
       "PLCH2                     0.0  ...               0.0               0.0   \n",
       "\n",
       "index        TTTCAGTGTGCAGT-1  TTTCCAGAGGTGAG-1  TTTCGAACACCTGA-1  \\\n",
       "index                                                               \n",
       "AGRN                      0.0               0.0               0.0   \n",
       "ATAD3C                    0.0               0.0               0.0   \n",
       "RP1-140A9.1               0.0               0.0               0.0   \n",
       "RP5-892K4.1               0.0               0.0               0.0   \n",
       "PLCH2                     0.0               0.0               0.0   \n",
       "\n",
       "index        TTTCGAACTCTCAT-1  TTTCTACTGAGGCA-1  TTTCTACTTCCTCG-1  \\\n",
       "index                                                               \n",
       "AGRN                      0.0               0.0               0.0   \n",
       "ATAD3C                    0.0               0.0               0.0   \n",
       "RP1-140A9.1               0.0               0.0               0.0   \n",
       "RP5-892K4.1               0.0               0.0               0.0   \n",
       "PLCH2                     0.0               0.0               0.0   \n",
       "\n",
       "index        TTTGCATGAGAGGC-1  TTTGCATGCCTCAC-1  \n",
       "index                                            \n",
       "AGRN                      0.0               0.0  \n",
       "ATAD3C                    0.0               0.0  \n",
       "RP1-140A9.1               0.0               0.0  \n",
       "RP5-892K4.1               0.0               0.0  \n",
       "PLCH2                     0.0               0.0  \n",
       "\n",
       "[5 rows x 2638 columns]"
      ]
     },
     "execution_count": 54,
     "metadata": {},
     "output_type": "execute_result"
    }
   ],
   "source": [
    "expr.head()"
   ]
  },
  {
   "cell_type": "markdown",
   "id": "64ce57a1",
   "metadata": {},
   "source": [
    "The cell metadata contains quantitative and categorical information associated with each individual measured cell"
   ]
  },
  {
   "cell_type": "code",
   "execution_count": 52,
   "id": "9bdc6ada",
   "metadata": {},
   "outputs": [
    {
     "data": {
      "text/html": [
       "<div>\n",
       "<style scoped>\n",
       "    .dataframe tbody tr th:only-of-type {\n",
       "        vertical-align: middle;\n",
       "    }\n",
       "\n",
       "    .dataframe tbody tr th {\n",
       "        vertical-align: top;\n",
       "    }\n",
       "\n",
       "    .dataframe thead th {\n",
       "        text-align: right;\n",
       "    }\n",
       "</style>\n",
       "<table border=\"1\" class=\"dataframe\">\n",
       "  <thead>\n",
       "    <tr style=\"text-align: right;\">\n",
       "      <th></th>\n",
       "      <th>n_genes</th>\n",
       "      <th>percent_mito</th>\n",
       "      <th>n_counts</th>\n",
       "      <th>louvain</th>\n",
       "    </tr>\n",
       "    <tr>\n",
       "      <th>index</th>\n",
       "      <th></th>\n",
       "      <th></th>\n",
       "      <th></th>\n",
       "      <th></th>\n",
       "    </tr>\n",
       "  </thead>\n",
       "  <tbody>\n",
       "    <tr>\n",
       "      <th>AAACATACAACCAC-1</th>\n",
       "      <td>781</td>\n",
       "      <td>0.030178</td>\n",
       "      <td>2419.0</td>\n",
       "      <td>CD4 T cells</td>\n",
       "    </tr>\n",
       "    <tr>\n",
       "      <th>AAACATTGAGCTAC-1</th>\n",
       "      <td>1352</td>\n",
       "      <td>0.037936</td>\n",
       "      <td>4903.0</td>\n",
       "      <td>B cells</td>\n",
       "    </tr>\n",
       "    <tr>\n",
       "      <th>AAACATTGATCAGC-1</th>\n",
       "      <td>1131</td>\n",
       "      <td>0.008897</td>\n",
       "      <td>3147.0</td>\n",
       "      <td>CD4 T cells</td>\n",
       "    </tr>\n",
       "    <tr>\n",
       "      <th>AAACCGTGCTTCCG-1</th>\n",
       "      <td>960</td>\n",
       "      <td>0.017431</td>\n",
       "      <td>2639.0</td>\n",
       "      <td>CD14+ Monocytes</td>\n",
       "    </tr>\n",
       "    <tr>\n",
       "      <th>AAACCGTGTATGCG-1</th>\n",
       "      <td>522</td>\n",
       "      <td>0.012245</td>\n",
       "      <td>980.0</td>\n",
       "      <td>NK cells</td>\n",
       "    </tr>\n",
       "  </tbody>\n",
       "</table>\n",
       "</div>"
      ],
      "text/plain": [
       "                  n_genes  percent_mito  n_counts          louvain\n",
       "index                                                             \n",
       "AAACATACAACCAC-1      781      0.030178    2419.0      CD4 T cells\n",
       "AAACATTGAGCTAC-1     1352      0.037936    4903.0          B cells\n",
       "AAACATTGATCAGC-1     1131      0.008897    3147.0      CD4 T cells\n",
       "AAACCGTGCTTCCG-1      960      0.017431    2639.0  CD14+ Monocytes\n",
       "AAACCGTGTATGCG-1      522      0.012245     980.0         NK cells"
      ]
     },
     "execution_count": 52,
     "metadata": {},
     "output_type": "execute_result"
    }
   ],
   "source": [
    "cell_md.head()"
   ]
  },
  {
   "cell_type": "markdown",
   "id": "0b253e8c",
   "metadata": {},
   "source": [
    "# Data Scaling"
   ]
  },
  {
   "cell_type": "markdown",
   "id": "b31e20c3",
   "metadata": {},
   "source": [
    "We will scale each feature so that expression is comparable across them. In this case, we will simply use z-scoring "
   ]
  },
  {
   "cell_type": "code",
   "execution_count": 106,
   "id": "78f4d11d",
   "metadata": {},
   "outputs": [],
   "source": [
    "expr_scaled = stats.zscore(expr, axis = 1) # axis = 1 specifies that z-scoring is done for each gene across cells rather than vice-versa"
   ]
  },
  {
   "cell_type": "markdown",
   "id": "b9df87cf",
   "metadata": {},
   "source": [
    "Differences in gene distributions across all cells are less pronounced after scaling, ensuring that not just highly expressed genes are biasing results: "
   ]
  },
  {
   "cell_type": "code",
   "execution_count": 165,
   "id": "1c894321",
   "metadata": {
    "scrolled": false
   },
   "outputs": [
    {
     "data": {
      "image/png": "[encoded data removed]",
      "text/plain": [
       "<Figure size 1000x500 with 2 Axes>"
      ]
     },
     "metadata": {},
     "output_type": "display_data"
    }
   ],
   "source": [
    "genes = ['QRICH1', 'ESCO2'] # genes with max and min means across all cells\n",
    "\n",
    "fig, ax = plt.subplots(ncols = 2, figsize = (10,5), sharey = True)\n",
    "sns.kdeplot(data = expr.loc[genes, :].T, ax = ax[0])\n",
    "sns.kdeplot(data = expr_scaled.loc[genes, :].T, ax = ax[1])\n",
    "\n",
    "\n",
    "ax[0].set_title('Unscaled Data')\n",
    "ax[1].set_title('Scaled Data')\n",
    "for i in range(2):\n",
    "    ax[i].set_xscale('log')\n",
    "    ax[i].set_xlabel('Gene Expression')\n",
    "    ax[i].get_legend().set_title('Gene ID')"
   ]
  },
  {
   "cell_type": "markdown",
   "id": "9f997942",
   "metadata": {},
   "source": [
    "if want to discuss imputation, proceed here ---\n",
    "\n",
    "A word on imputation: scRNA-seq data follows a negative binomial distribution. This means that matrices tend to be sparse:"
   ]
  },
  {
   "cell_type": "markdown",
   "id": "57b7e1d0",
   "metadata": {},
   "source": [
    "# Linear Regression for QC"
   ]
  },
  {
   "cell_type": "code",
   "execution_count": null,
   "id": "643f13a1",
   "metadata": {},
   "outputs": [],
   "source": []
  },
  {
   "cell_type": "markdown",
   "id": "60b60536",
   "metadata": {},
   "source": [
    "# Classification"
   ]
  },
  {
   "cell_type": "markdown",
   "id": "4092af8b",
   "metadata": {},
   "source": [
    "# Dimensionality Reduction"
   ]
  },
  {
   "cell_type": "code",
   "execution_count": 53,
   "id": "efea362c",
   "metadata": {},
   "outputs": [],
   "source": [
    "expr_processed = expr.copy()"
   ]
  },
  {
   "cell_type": "code",
   "execution_count": null,
   "id": "7fd34e75",
   "metadata": {},
   "outputs": [],
   "source": []
  },
  {
   "cell_type": "code",
   "execution_count": null,
   "id": "4c63d877",
   "metadata": {},
   "outputs": [],
   "source": []
  },
  {
   "cell_type": "markdown",
   "id": "dd061ff3",
   "metadata": {},
   "source": [
    "# Clustering"
   ]
  }
 ],
 "metadata": {
  "kernelspec": {
   "display_name": "Python [conda env:bootcamp] *",
   "language": "python",
   "name": "conda-env-bootcamp-py"
  },
  "language_info": {
   "codemirror_mode": {
    "name": "ipython",
    "version": 3
   },
   "file_extension": ".py",
   "mimetype": "text/x-python",
   "name": "python",
   "nbconvert_exporter": "python",
   "pygments_lexer": "ipython3",
   "version": "3.9.5"
  }
 },
 "nbformat": 4,
 "nbformat_minor": 5
}
