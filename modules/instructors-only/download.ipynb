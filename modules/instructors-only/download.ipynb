{
 "cells": [
  {
   "cell_type": "markdown",
   "metadata": {},
   "source": [
    "# Download CCLE data from Google Cloud Storage to DataHub"
   ]
  },
  {
   "cell_type": "markdown",
   "metadata": {},
   "source": [
    "Download WGS and WES bam files for SK-BR-3 cell line. I found google cloud storage paths in the data table from the [CCLE v2.1 Terra Workspace](https://app.terra.bio/#workspaces/fccredits-silver-tan-7621/CCLE_v2)\n",
    "\n",
    "RNA-seq: gs://cclebams/rnasq_hg38/CDS-2MfLwH.Aligned.sortedByCoord.out.bam\n",
    "WES: gs://cclebams/hg38_wes/CDS-4Klk1G.hg38.bam"
   ]
  },
  {
   "cell_type": "code",
   "execution_count": null,
   "metadata": {},
   "outputs": [],
   "source": [
    "%%bash"
   ]
  }
 ],
 "metadata": {
  "kernelspec": {
   "display_name": "Python 3.9.13 64-bit",
   "language": "python",
   "name": "python3"
  },
  "language_info": {
   "name": "python",
   "version": "3.9.13"
  },
  "orig_nbformat": 4,
  "vscode": {
   "interpreter": {
    "hash": "b0fa6594d8f4cbf19f97940f81e996739fb7646882a419484c72d19e05852a7e"
   }
  }
 },
 "nbformat": 4,
 "nbformat_minor": 2
}
