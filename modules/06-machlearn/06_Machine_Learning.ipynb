{
 "cells": [
  {
   "cell_type": "code",
   "execution_count": 18,
   "id": "40b89d9e",
   "metadata": {},
   "outputs": [],
   "source": [
    "import numpy as np\n",
    "import pandas as pd\n",
    "import random\n",
    "\n",
    "import scipy.stats as stats\n",
    "from sklearn.linear_model import LinearRegression\n",
    "\n",
    "import matplotlib.pyplot as plt\n",
    "import seaborn as sns\n",
    "\n",
    "import scanpy as sc"
   ]
  },
  {
   "cell_type": "code",
   "execution_count": 19,
   "id": "9d7dc074",
   "metadata": {},
   "outputs": [],
   "source": [
    "# load the dataset\n",
    "adata = sc.datasets.pbmc3k()"
   ]
  },
  {
   "cell_type": "markdown",
   "id": "2bf7d75e",
   "metadata": {},
   "source": [
    "Single-cell specific preprocessing from: https://scanpy-tutorials.readthedocs.io/en/latest/pbmc3k.html"
   ]
  },
  {
   "cell_type": "code",
   "execution_count": 20,
   "id": "787f3277",
   "metadata": {},
   "outputs": [
    {
     "name": "stderr",
     "output_type": "stream",
     "text": [
      "/home/hratch/anaconda3/envs/bootcamp/lib/python3.9/site-packages/scanpy/preprocessing/_normalization.py:170: UserWarning: Received a view of an AnnData. Making a copy.\n",
      "  view_to_actual(adata)\n",
      "/tmp/ipykernel_2701/3498145370.py:24: ImplicitModificationWarning: Trying to modify attribute `.obs` of view, initializing view as actual.\n",
      "  adata.obs['louvain'] = processed_data.obs['louvain']\n"
     ]
    }
   ],
   "source": [
    "adata.var_names_make_unique()\n",
    "sc.pp.filter_cells(adata, min_genes=200)\n",
    "sc.pp.filter_genes(adata, min_cells=3)\n",
    "\n",
    "# QC\n",
    "adata.var['mt'] = adata.var_names.str.startswith('MT-')  # annotate the group of mitochondrial genes as 'mt'\n",
    "sc.pp.calculate_qc_metrics(adata, qc_vars=['mt'], percent_top=None, log1p=False, inplace=True)\n",
    "adata = adata[adata.obs.n_genes_by_counts < 2500, :]\n",
    "pre_mt_filter = adata.obs.copy() # save for visualization later\n",
    "adata = adata[adata.obs.pct_counts_mt < 5, :]\n",
    "\n",
    "expr_raw = adata.to_df() # store raw counts for DE testing\n",
    "\n",
    "# processing\n",
    "sc.pp.normalize_total(adata, target_sum=1e6) # normalize to counts-per-million (CPM)\n",
    "sc.pp.log1p(adata) # logarithmize\n",
    "\n",
    "# filter for HVGs\n",
    "sc.pp.highly_variable_genes(adata, min_mean=0.0125, max_mean=3, min_disp=0.5)\n",
    "adata = adata[:, adata.var.highly_variable]\n",
    "\n",
    "# transfer annotations of processed data\n",
    "processed_data = sc.datasets.pbmc3k_processed()\n",
    "adata.obs['louvain'] = processed_data.obs['louvain']"
   ]
  },
  {
   "cell_type": "code",
   "execution_count": 21,
   "id": "50549799",
   "metadata": {},
   "outputs": [],
   "source": [
    "expr = adata.to_df()\n",
    "cell_md = adata.obs"
   ]
  },
  {
   "cell_type": "markdown",
   "id": "8903d593",
   "metadata": {},
   "source": [
    "The expression matrix is a sparse cell by gene matrix containing log-normalized UMI counts of single-cell RNAseq measurements"
   ]
  },
  {
   "cell_type": "code",
   "execution_count": 22,
   "id": "adb3a802",
   "metadata": {},
   "outputs": [
    {
     "data": {
      "text/html": [
       "<div>\n",
       "<style scoped>\n",
       "    .dataframe tbody tr th:only-of-type {\n",
       "        vertical-align: middle;\n",
       "    }\n",
       "\n",
       "    .dataframe tbody tr th {\n",
       "        vertical-align: top;\n",
       "    }\n",
       "\n",
       "    .dataframe thead th {\n",
       "        text-align: right;\n",
       "    }\n",
       "</style>\n",
       "<table border=\"1\" class=\"dataframe\">\n",
       "  <thead>\n",
       "    <tr style=\"text-align: right;\">\n",
       "      <th>index</th>\n",
       "      <th>AGRN</th>\n",
       "      <th>ATAD3C</th>\n",
       "      <th>RP1-140A9.1</th>\n",
       "      <th>RP5-892K4.1</th>\n",
       "      <th>PLCH2</th>\n",
       "      <th>RP11-312B8.1</th>\n",
       "      <th>TNFRSF9</th>\n",
       "      <th>CA6</th>\n",
       "      <th>GPR157</th>\n",
       "      <th>DRAXIN</th>\n",
       "      <th>...</th>\n",
       "      <th>BACE2</th>\n",
       "      <th>AP001610.5</th>\n",
       "      <th>WDR4</th>\n",
       "      <th>HSF2BP</th>\n",
       "      <th>AP001058.3</th>\n",
       "      <th>ICOSLG</th>\n",
       "      <th>AIRE</th>\n",
       "      <th>SLC19A1</th>\n",
       "      <th>PCBP3</th>\n",
       "      <th>AL354822.1</th>\n",
       "    </tr>\n",
       "    <tr>\n",
       "      <th>index</th>\n",
       "      <th></th>\n",
       "      <th></th>\n",
       "      <th></th>\n",
       "      <th></th>\n",
       "      <th></th>\n",
       "      <th></th>\n",
       "      <th></th>\n",
       "      <th></th>\n",
       "      <th></th>\n",
       "      <th></th>\n",
       "      <th></th>\n",
       "      <th></th>\n",
       "      <th></th>\n",
       "      <th></th>\n",
       "      <th></th>\n",
       "      <th></th>\n",
       "      <th></th>\n",
       "      <th></th>\n",
       "      <th></th>\n",
       "      <th></th>\n",
       "      <th></th>\n",
       "    </tr>\n",
       "  </thead>\n",
       "  <tbody>\n",
       "    <tr>\n",
       "      <th>AAACATACAACCAC-1</th>\n",
       "      <td>0.0</td>\n",
       "      <td>0.0</td>\n",
       "      <td>0.0</td>\n",
       "      <td>0.0</td>\n",
       "      <td>0.0</td>\n",
       "      <td>0.0</td>\n",
       "      <td>0.0</td>\n",
       "      <td>0.0</td>\n",
       "      <td>0.0</td>\n",
       "      <td>0.0</td>\n",
       "      <td>...</td>\n",
       "      <td>0.0</td>\n",
       "      <td>0.0</td>\n",
       "      <td>0.0</td>\n",
       "      <td>0.0</td>\n",
       "      <td>0.0</td>\n",
       "      <td>0.0</td>\n",
       "      <td>0.0</td>\n",
       "      <td>0.0</td>\n",
       "      <td>0.000000</td>\n",
       "      <td>0.0</td>\n",
       "    </tr>\n",
       "    <tr>\n",
       "      <th>AAACATTGAGCTAC-1</th>\n",
       "      <td>0.0</td>\n",
       "      <td>0.0</td>\n",
       "      <td>0.0</td>\n",
       "      <td>0.0</td>\n",
       "      <td>0.0</td>\n",
       "      <td>0.0</td>\n",
       "      <td>0.0</td>\n",
       "      <td>0.0</td>\n",
       "      <td>0.0</td>\n",
       "      <td>0.0</td>\n",
       "      <td>...</td>\n",
       "      <td>0.0</td>\n",
       "      <td>0.0</td>\n",
       "      <td>0.0</td>\n",
       "      <td>0.0</td>\n",
       "      <td>0.0</td>\n",
       "      <td>0.0</td>\n",
       "      <td>0.0</td>\n",
       "      <td>0.0</td>\n",
       "      <td>0.000000</td>\n",
       "      <td>0.0</td>\n",
       "    </tr>\n",
       "    <tr>\n",
       "      <th>AAACATTGATCAGC-1</th>\n",
       "      <td>0.0</td>\n",
       "      <td>0.0</td>\n",
       "      <td>0.0</td>\n",
       "      <td>0.0</td>\n",
       "      <td>0.0</td>\n",
       "      <td>0.0</td>\n",
       "      <td>0.0</td>\n",
       "      <td>0.0</td>\n",
       "      <td>0.0</td>\n",
       "      <td>0.0</td>\n",
       "      <td>...</td>\n",
       "      <td>0.0</td>\n",
       "      <td>0.0</td>\n",
       "      <td>0.0</td>\n",
       "      <td>0.0</td>\n",
       "      <td>0.0</td>\n",
       "      <td>0.0</td>\n",
       "      <td>0.0</td>\n",
       "      <td>0.0</td>\n",
       "      <td>5.764448</td>\n",
       "      <td>0.0</td>\n",
       "    </tr>\n",
       "    <tr>\n",
       "      <th>AAACCGTGCTTCCG-1</th>\n",
       "      <td>0.0</td>\n",
       "      <td>0.0</td>\n",
       "      <td>0.0</td>\n",
       "      <td>0.0</td>\n",
       "      <td>0.0</td>\n",
       "      <td>0.0</td>\n",
       "      <td>0.0</td>\n",
       "      <td>0.0</td>\n",
       "      <td>0.0</td>\n",
       "      <td>0.0</td>\n",
       "      <td>...</td>\n",
       "      <td>0.0</td>\n",
       "      <td>0.0</td>\n",
       "      <td>0.0</td>\n",
       "      <td>0.0</td>\n",
       "      <td>0.0</td>\n",
       "      <td>0.0</td>\n",
       "      <td>0.0</td>\n",
       "      <td>0.0</td>\n",
       "      <td>0.000000</td>\n",
       "      <td>0.0</td>\n",
       "    </tr>\n",
       "    <tr>\n",
       "      <th>AAACCGTGTATGCG-1</th>\n",
       "      <td>0.0</td>\n",
       "      <td>0.0</td>\n",
       "      <td>0.0</td>\n",
       "      <td>0.0</td>\n",
       "      <td>0.0</td>\n",
       "      <td>0.0</td>\n",
       "      <td>0.0</td>\n",
       "      <td>0.0</td>\n",
       "      <td>0.0</td>\n",
       "      <td>0.0</td>\n",
       "      <td>...</td>\n",
       "      <td>0.0</td>\n",
       "      <td>0.0</td>\n",
       "      <td>0.0</td>\n",
       "      <td>0.0</td>\n",
       "      <td>0.0</td>\n",
       "      <td>0.0</td>\n",
       "      <td>0.0</td>\n",
       "      <td>0.0</td>\n",
       "      <td>0.000000</td>\n",
       "      <td>0.0</td>\n",
       "    </tr>\n",
       "  </tbody>\n",
       "</table>\n",
       "<p>5 rows × 1476 columns</p>\n",
       "</div>"
      ],
      "text/plain": [
       "index             AGRN  ATAD3C  RP1-140A9.1  RP5-892K4.1  PLCH2  RP11-312B8.1  \\\n",
       "index                                                                           \n",
       "AAACATACAACCAC-1   0.0     0.0          0.0          0.0    0.0           0.0   \n",
       "AAACATTGAGCTAC-1   0.0     0.0          0.0          0.0    0.0           0.0   \n",
       "AAACATTGATCAGC-1   0.0     0.0          0.0          0.0    0.0           0.0   \n",
       "AAACCGTGCTTCCG-1   0.0     0.0          0.0          0.0    0.0           0.0   \n",
       "AAACCGTGTATGCG-1   0.0     0.0          0.0          0.0    0.0           0.0   \n",
       "\n",
       "index             TNFRSF9  CA6  GPR157  DRAXIN  ...  BACE2  AP001610.5  WDR4  \\\n",
       "index                                           ...                            \n",
       "AAACATACAACCAC-1      0.0  0.0     0.0     0.0  ...    0.0         0.0   0.0   \n",
       "AAACATTGAGCTAC-1      0.0  0.0     0.0     0.0  ...    0.0         0.0   0.0   \n",
       "AAACATTGATCAGC-1      0.0  0.0     0.0     0.0  ...    0.0         0.0   0.0   \n",
       "AAACCGTGCTTCCG-1      0.0  0.0     0.0     0.0  ...    0.0         0.0   0.0   \n",
       "AAACCGTGTATGCG-1      0.0  0.0     0.0     0.0  ...    0.0         0.0   0.0   \n",
       "\n",
       "index             HSF2BP  AP001058.3  ICOSLG  AIRE  SLC19A1     PCBP3  \\\n",
       "index                                                                   \n",
       "AAACATACAACCAC-1     0.0         0.0     0.0   0.0      0.0  0.000000   \n",
       "AAACATTGAGCTAC-1     0.0         0.0     0.0   0.0      0.0  0.000000   \n",
       "AAACATTGATCAGC-1     0.0         0.0     0.0   0.0      0.0  5.764448   \n",
       "AAACCGTGCTTCCG-1     0.0         0.0     0.0   0.0      0.0  0.000000   \n",
       "AAACCGTGTATGCG-1     0.0         0.0     0.0   0.0      0.0  0.000000   \n",
       "\n",
       "index             AL354822.1  \n",
       "index                         \n",
       "AAACATACAACCAC-1         0.0  \n",
       "AAACATTGAGCTAC-1         0.0  \n",
       "AAACATTGATCAGC-1         0.0  \n",
       "AAACCGTGCTTCCG-1         0.0  \n",
       "AAACCGTGTATGCG-1         0.0  \n",
       "\n",
       "[5 rows x 1476 columns]"
      ]
     },
     "execution_count": 22,
     "metadata": {},
     "output_type": "execute_result"
    }
   ],
   "source": [
    "expr.head()"
   ]
  },
  {
   "cell_type": "markdown",
   "id": "64ce57a1",
   "metadata": {},
   "source": [
    "The cell metadata contains quantitative and categorical information associated with each individual measured cell"
   ]
  },
  {
   "cell_type": "code",
   "execution_count": 23,
   "id": "9bdc6ada",
   "metadata": {},
   "outputs": [
    {
     "data": {
      "text/html": [
       "<div>\n",
       "<style scoped>\n",
       "    .dataframe tbody tr th:only-of-type {\n",
       "        vertical-align: middle;\n",
       "    }\n",
       "\n",
       "    .dataframe tbody tr th {\n",
       "        vertical-align: top;\n",
       "    }\n",
       "\n",
       "    .dataframe thead th {\n",
       "        text-align: right;\n",
       "    }\n",
       "</style>\n",
       "<table border=\"1\" class=\"dataframe\">\n",
       "  <thead>\n",
       "    <tr style=\"text-align: right;\">\n",
       "      <th></th>\n",
       "      <th>n_genes</th>\n",
       "      <th>n_genes_by_counts</th>\n",
       "      <th>total_counts</th>\n",
       "      <th>total_counts_mt</th>\n",
       "      <th>pct_counts_mt</th>\n",
       "      <th>louvain</th>\n",
       "    </tr>\n",
       "    <tr>\n",
       "      <th>index</th>\n",
       "      <th></th>\n",
       "      <th></th>\n",
       "      <th></th>\n",
       "      <th></th>\n",
       "      <th></th>\n",
       "      <th></th>\n",
       "    </tr>\n",
       "  </thead>\n",
       "  <tbody>\n",
       "    <tr>\n",
       "      <th>AAACATACAACCAC-1</th>\n",
       "      <td>781</td>\n",
       "      <td>779</td>\n",
       "      <td>2419.0</td>\n",
       "      <td>73.0</td>\n",
       "      <td>3.017776</td>\n",
       "      <td>CD4 T cells</td>\n",
       "    </tr>\n",
       "    <tr>\n",
       "      <th>AAACATTGAGCTAC-1</th>\n",
       "      <td>1352</td>\n",
       "      <td>1352</td>\n",
       "      <td>4903.0</td>\n",
       "      <td>186.0</td>\n",
       "      <td>3.793596</td>\n",
       "      <td>B cells</td>\n",
       "    </tr>\n",
       "    <tr>\n",
       "      <th>AAACATTGATCAGC-1</th>\n",
       "      <td>1131</td>\n",
       "      <td>1129</td>\n",
       "      <td>3147.0</td>\n",
       "      <td>28.0</td>\n",
       "      <td>0.889736</td>\n",
       "      <td>CD4 T cells</td>\n",
       "    </tr>\n",
       "    <tr>\n",
       "      <th>AAACCGTGCTTCCG-1</th>\n",
       "      <td>960</td>\n",
       "      <td>960</td>\n",
       "      <td>2639.0</td>\n",
       "      <td>46.0</td>\n",
       "      <td>1.743085</td>\n",
       "      <td>CD14+ Monocytes</td>\n",
       "    </tr>\n",
       "    <tr>\n",
       "      <th>AAACCGTGTATGCG-1</th>\n",
       "      <td>522</td>\n",
       "      <td>521</td>\n",
       "      <td>980.0</td>\n",
       "      <td>12.0</td>\n",
       "      <td>1.224490</td>\n",
       "      <td>NK cells</td>\n",
       "    </tr>\n",
       "  </tbody>\n",
       "</table>\n",
       "</div>"
      ],
      "text/plain": [
       "                  n_genes  n_genes_by_counts  total_counts  total_counts_mt  \\\n",
       "index                                                                         \n",
       "AAACATACAACCAC-1      781                779        2419.0             73.0   \n",
       "AAACATTGAGCTAC-1     1352               1352        4903.0            186.0   \n",
       "AAACATTGATCAGC-1     1131               1129        3147.0             28.0   \n",
       "AAACCGTGCTTCCG-1      960                960        2639.0             46.0   \n",
       "AAACCGTGTATGCG-1      522                521         980.0             12.0   \n",
       "\n",
       "                  pct_counts_mt          louvain  \n",
       "index                                             \n",
       "AAACATACAACCAC-1       3.017776      CD4 T cells  \n",
       "AAACATTGAGCTAC-1       3.793596          B cells  \n",
       "AAACATTGATCAGC-1       0.889736      CD4 T cells  \n",
       "AAACCGTGCTTCCG-1       1.743085  CD14+ Monocytes  \n",
       "AAACCGTGTATGCG-1       1.224490         NK cells  "
      ]
     },
     "execution_count": 23,
     "metadata": {},
     "output_type": "execute_result"
    }
   ],
   "source": [
    "cell_md.head()"
   ]
  },
  {
   "cell_type": "markdown",
   "id": "0b253e8c",
   "metadata": {},
   "source": [
    "# Data Scaling"
   ]
  },
  {
   "cell_type": "markdown",
   "id": "16926ce5",
   "metadata": {},
   "source": [
    "We will scale each feature so that expression is comparable across them. In this case, we will simply use z-scoring "
   ]
  },
  {
   "cell_type": "code",
   "execution_count": 24,
   "id": "371fd23d",
   "metadata": {},
   "outputs": [],
   "source": [
    "expr_scaled = stats.zscore(expr, axis = 0) # axis = 0 specifies that z-scoring is done for each gene across cells rather than vice-versa"
   ]
  },
  {
   "cell_type": "markdown",
   "id": "f1cd8e51",
   "metadata": {},
   "source": [
    "Differences in gene distributions across all cells are less pronounced after scaling, ensuring that not just highly expressed genes are biasing results: "
   ]
  },
  {
   "cell_type": "code",
   "execution_count": 25,
   "id": "f0ecd49e",
   "metadata": {
    "scrolled": false
   },
   "outputs": [
    {
     "data": {
      "image/png": "[encoded data removed]",
      "text/plain": [
       "<Figure size 1000x500 with 2 Axes>"
      ]
     },
     "metadata": {},
     "output_type": "display_data"
    }
   ],
   "source": [
    "genes = ['QRICH1', 'ESCO2'] # genes with max and min means across all cells\n",
    "\n",
    "fig, ax = plt.subplots(ncols = 2, figsize = (10,5), sharey = True)\n",
    "sns.kdeplot(data = expr.loc[:, genes], ax = ax[0])\n",
    "sns.kdeplot(data = expr_scaled.loc[:, genes], ax = ax[1])\n",
    "\n",
    "\n",
    "ax[0].set_title('Unscaled Data')\n",
    "ax[1].set_title('Scaled Data')\n",
    "for i in range(2):\n",
    "    ax[i].set_xscale('log')\n",
    "    ax[i].set_xlabel('Gene Expression')\n",
    "    ax[i].get_legend().set_title('Gene ID')"
   ]
  },
  {
   "cell_type": "markdown",
   "id": "801325de",
   "metadata": {},
   "source": [
    "if want to discuss imputation, proceed here ---\n",
    "\n",
    "A word on imputation: scRNA-seq data follows a negative binomial distribution. This means that matrices tend to be sparse:"
   ]
  },
  {
   "cell_type": "markdown",
   "id": "57b7e1d0",
   "metadata": {},
   "source": [
    "# Linear Regression"
   ]
  },
  {
   "cell_type": "markdown",
   "id": "442e93c1",
   "metadata": {},
   "source": [
    "## Continuous Variables for QC"
   ]
  },
  {
   "cell_type": "markdown",
   "id": "64fee3a5",
   "metadata": {},
   "source": [
    "The fraction of total genes that represent mitochondrial genes in a given cell is a QC metric. A high mitochondrial percentage indicates a cell whose cytoplasmic mRNA has leaked out through a broken membrane, and thus, only mRNA located in the mitochondria is still conserved.\n",
    "\n",
    "A high total # of counts in a cell is also indicative of a low-quality cell, because it indicates that the measured droplet possibly contained a doublet.\n",
    "\n",
    "These QC metrics were calculated by scanpy in the single-cell preprocessing steps and can be observed in the cell metadata:"
   ]
  },
  {
   "cell_type": "code",
   "execution_count": 26,
   "id": "6b0037bc",
   "metadata": {},
   "outputs": [
    {
     "data": {
      "text/html": [
       "<div>\n",
       "<style scoped>\n",
       "    .dataframe tbody tr th:only-of-type {\n",
       "        vertical-align: middle;\n",
       "    }\n",
       "\n",
       "    .dataframe tbody tr th {\n",
       "        vertical-align: top;\n",
       "    }\n",
       "\n",
       "    .dataframe thead th {\n",
       "        text-align: right;\n",
       "    }\n",
       "</style>\n",
       "<table border=\"1\" class=\"dataframe\">\n",
       "  <thead>\n",
       "    <tr style=\"text-align: right;\">\n",
       "      <th></th>\n",
       "      <th>pct_counts_mt</th>\n",
       "      <th>total_counts</th>\n",
       "    </tr>\n",
       "    <tr>\n",
       "      <th>index</th>\n",
       "      <th></th>\n",
       "      <th></th>\n",
       "    </tr>\n",
       "  </thead>\n",
       "  <tbody>\n",
       "    <tr>\n",
       "      <th>AAACATACAACCAC-1</th>\n",
       "      <td>3.017776</td>\n",
       "      <td>2419.0</td>\n",
       "    </tr>\n",
       "    <tr>\n",
       "      <th>AAACATTGAGCTAC-1</th>\n",
       "      <td>3.793596</td>\n",
       "      <td>4903.0</td>\n",
       "    </tr>\n",
       "    <tr>\n",
       "      <th>AAACATTGATCAGC-1</th>\n",
       "      <td>0.889736</td>\n",
       "      <td>3147.0</td>\n",
       "    </tr>\n",
       "    <tr>\n",
       "      <th>AAACCGTGCTTCCG-1</th>\n",
       "      <td>1.743085</td>\n",
       "      <td>2639.0</td>\n",
       "    </tr>\n",
       "    <tr>\n",
       "      <th>AAACCGTGTATGCG-1</th>\n",
       "      <td>1.224490</td>\n",
       "      <td>980.0</td>\n",
       "    </tr>\n",
       "  </tbody>\n",
       "</table>\n",
       "</div>"
      ],
      "text/plain": [
       "                  pct_counts_mt  total_counts\n",
       "index                                        \n",
       "AAACATACAACCAC-1       3.017776        2419.0\n",
       "AAACATTGAGCTAC-1       3.793596        4903.0\n",
       "AAACATTGATCAGC-1       0.889736        3147.0\n",
       "AAACCGTGCTTCCG-1       1.743085        2639.0\n",
       "AAACCGTGTATGCG-1       1.224490         980.0"
      ]
     },
     "execution_count": 26,
     "metadata": {},
     "output_type": "execute_result"
    }
   ],
   "source": [
    "cell_md[['pct_counts_mt', 'total_counts']].head()"
   ]
  },
  {
   "cell_type": "markdown",
   "id": "a4d0cde8",
   "metadata": {},
   "source": [
    "A common preprocessing step is to simply filter out loq-quality cells using a heuristic threshold, e.g. cells with >5% of counts being mitochondrial as done in line 10 of the single-cell preprocessing:"
   ]
  },
  {
   "cell_type": "code",
   "execution_count": 27,
   "id": "a7c75a2a",
   "metadata": {},
   "outputs": [
    {
     "data": {
      "text/plain": [
       "<matplotlib.lines.Line2D at 0x7f7d66cb7b20>"
      ]
     },
     "execution_count": 27,
     "metadata": {},
     "output_type": "execute_result"
    },
    {
     "data": {
      "image/png": "[encoded data removed]",
      "text/plain": [
       "<Figure size 640x480 with 1 Axes>"
      ]
     },
     "metadata": {},
     "output_type": "display_data"
    }
   ],
   "source": [
    "fig, ax = plt.subplots()\n",
    "sns.violinplot(y = pre_mt_filter['pct_counts_mt'])\n",
    "ax.axhline(5, color = 'red')"
   ]
  },
  {
   "cell_type": "markdown",
   "id": "e01ca2bb",
   "metadata": {},
   "source": [
    "An alternative method is to use regression to correct for technical variance associated with QC metrics. This may be done in combination with the heuristic threshold applied above, as exemplified in the scanpy tutorial.\n",
    "\n",
    "Some notes:\n",
    " - Due to the additional complexities of modeling sparse data, we will consider simpler scenarios in which we disregard 0 counts; this step is only included for the case of this simple example and would not be done in actual single-cell analysis.bullte\n",
    " - We will not use the scaled data, since the correction method also works as a scaling method\n",
    "\n",
    "Let's explore this idea with one gene. First, let's calculate which gene has the highest correlation with the mitochondrial percentage across cells. "
   ]
  },
  {
   "cell_type": "code",
   "execution_count": 28,
   "id": "34ac4075",
   "metadata": {},
   "outputs": [],
   "source": [
    "regressor = 'pct_counts_mt'"
   ]
  },
  {
   "cell_type": "code",
   "execution_count": 29,
   "id": "47268399",
   "metadata": {},
   "outputs": [
    {
     "name": "stdout",
     "output_type": "stream",
     "text": [
      "The gene with the highest correlation is DLEU7 with a Pearson r of 0.845\n"
     ]
    }
   ],
   "source": [
    "def regressor_pearson(counts, cell_thresh = 10, cell_md = cell_md):\n",
    "    counts_ = counts[counts != 0] # drop zero counts\n",
    "    \n",
    "    if counts_.shape[0] >= cell_thresh: # only consider those with atleast cell_thresh non-zero cells\n",
    "        regressor_ = cell_md.loc[counts_.index, regressor] # only consider non-zero counts for technical covariate\n",
    "        pearson_r = stats.pearsonr(counts_, regressor_).statistic # get the pearsonr\n",
    "    else:\n",
    "        pearson_r = 0\n",
    "    return pearson_r\n",
    "\n",
    "pearson_correlation = expr.apply(lambda counts: regressor_pearson(counts)) # calculate for each gene\n",
    "\n",
    "# see which gene has highest correlation\n",
    "print('The gene with the highest correlation is {} with a Pearson r of {:.3f}'.format(pearson_correlation.idxmax(), \n",
    "                                                                                     pearson_correlation.max()))"
   ]
  },
  {
   "cell_type": "markdown",
   "id": "6cce71cb",
   "metadata": {},
   "source": [
    "Next, let's build the linear regression model for this gene: gene ~ B_0 + B_1*percent_mito"
   ]
  },
  {
   "cell_type": "code",
   "execution_count": 30,
   "id": "0903fc6f",
   "metadata": {},
   "outputs": [],
   "source": [
    "gene = 'DLEU7'"
   ]
  },
  {
   "cell_type": "code",
   "execution_count": 31,
   "id": "15db30bb",
   "metadata": {},
   "outputs": [
    {
     "name": "stdout",
     "output_type": "stream",
     "text": [
      "LR formula: DLEU7 ~ 5.286 + 0.399*MITO\n"
     ]
    }
   ],
   "source": [
    "# filter for non-zero counts\n",
    "counts_ = expr[expr[gene] != 0][gene]\n",
    "cell_md_ = cell_md.loc[counts_.index, :][[regressor]]\n",
    "\n",
    "# do the regression\n",
    "lr = LinearRegression() #initialize the class\n",
    "lr.fit(y = counts_, X = cell_md_) # fit the regression model to the data\n",
    "\n",
    "print('LR formula: {} ~ {:.3f} + {:.3f}*MITO'.format(gene, lr.intercept_, lr.coef_[0]))"
   ]
  },
  {
   "cell_type": "code",
   "execution_count": 32,
   "id": "fb7abfba",
   "metadata": {},
   "outputs": [],
   "source": [
    "# pd.concat([counts_, cell_md_], axis = 1).head()"
   ]
  },
  {
   "cell_type": "markdown",
   "id": "a4b420c9",
   "metadata": {},
   "source": [
    "We can visualize this as well:"
   ]
  },
  {
   "cell_type": "code",
   "execution_count": 33,
   "id": "4b70be88",
   "metadata": {},
   "outputs": [
    {
     "data": {
      "text/plain": [
       "(1.1669065237045289, 4.9210302352905275)"
      ]
     },
     "execution_count": 33,
     "metadata": {},
     "output_type": "execute_result"
    },
    {
     "data": {
      "image/png": "[encoded data removed]",
      "text/plain": [
       "<Figure size 640x480 with 1 Axes>"
      ]
     },
     "metadata": {},
     "output_type": "display_data"
    }
   ],
   "source": [
    "fig, ax = plt.subplots()\n",
    "viz_df = pd.DataFrame(data = {gene: counts_, regressor: cell_md_[regressor]})\n",
    "\n",
    "# plot the data\n",
    "sns.scatterplot(data = viz_df, y = gene, x = regressor, ax = ax) \n",
    "\n",
    "# plot the regression\n",
    "min_x, max_x = viz_df[regressor].min(), viz_df[regressor].max()\n",
    "x = np.linspace(min_x, max_x)\n",
    "ax.plot(x, lr.coef_[0]*x + lr.intercept_, color = 'red')\n",
    "\n",
    "#\n",
    "ax.annotate('{} ~ {:.3f} + {:.3f}*MITO'.format(gene, lr.intercept_, lr.coef_[0]), \n",
    "           xy = (3, 7))\n",
    "ax.set_xlim(min_x - 0.2, max_x + 0.2)"
   ]
  },
  {
   "cell_type": "markdown",
   "id": "1c7299d0",
   "metadata": {},
   "source": [
    "To control for this, we can replace the count values with the residuals of the regression (i.e., the difference between scatter point and the red line on the graph above). This residual represents the actual biological variation in the data after correcting for the technical variation:"
   ]
  },
  {
   "cell_type": "code",
   "execution_count": 34,
   "id": "7d625b38",
   "metadata": {},
   "outputs": [
    {
     "data": {
      "text/html": [
       "<div>\n",
       "<style scoped>\n",
       "    .dataframe tbody tr th:only-of-type {\n",
       "        vertical-align: middle;\n",
       "    }\n",
       "\n",
       "    .dataframe tbody tr th {\n",
       "        vertical-align: top;\n",
       "    }\n",
       "\n",
       "    .dataframe thead th {\n",
       "        text-align: right;\n",
       "    }\n",
       "</style>\n",
       "<table border=\"1\" class=\"dataframe\">\n",
       "  <thead>\n",
       "    <tr style=\"text-align: right;\">\n",
       "      <th></th>\n",
       "      <th>pct_counts_mt</th>\n",
       "      <th>Actual_Counts</th>\n",
       "      <th>Predicted_Counts</th>\n",
       "      <th>Corrected_Counts</th>\n",
       "    </tr>\n",
       "    <tr>\n",
       "      <th>index</th>\n",
       "      <th></th>\n",
       "      <th></th>\n",
       "      <th></th>\n",
       "      <th></th>\n",
       "    </tr>\n",
       "  </thead>\n",
       "  <tbody>\n",
       "    <tr>\n",
       "      <th>AGCATCGATAACCG-1</th>\n",
       "      <td>1.366907</td>\n",
       "      <td>5.888081</td>\n",
       "      <td>5.831718</td>\n",
       "      <td>0.056362</td>\n",
       "    </tr>\n",
       "    <tr>\n",
       "      <th>TTGCTAACACGCTA-1</th>\n",
       "      <td>1.982122</td>\n",
       "      <td>5.965252</td>\n",
       "      <td>6.077135</td>\n",
       "      <td>-0.111883</td>\n",
       "    </tr>\n",
       "    <tr>\n",
       "      <th>ATATGCCTAGATCC-1</th>\n",
       "      <td>2.041885</td>\n",
       "      <td>6.262560</td>\n",
       "      <td>6.100975</td>\n",
       "      <td>0.161585</td>\n",
       "    </tr>\n",
       "    <tr>\n",
       "      <th>CAACGTGATCAAGC-1</th>\n",
       "      <td>2.198731</td>\n",
       "      <td>6.049339</td>\n",
       "      <td>6.163543</td>\n",
       "      <td>-0.114204</td>\n",
       "    </tr>\n",
       "    <tr>\n",
       "      <th>CTATCCCTCCACCT-1</th>\n",
       "      <td>2.209945</td>\n",
       "      <td>6.134276</td>\n",
       "      <td>6.168016</td>\n",
       "      <td>-0.033740</td>\n",
       "    </tr>\n",
       "  </tbody>\n",
       "</table>\n",
       "</div>"
      ],
      "text/plain": [
       "                  pct_counts_mt  Actual_Counts  Predicted_Counts  \\\n",
       "index                                                              \n",
       "AGCATCGATAACCG-1       1.366907       5.888081          5.831718   \n",
       "TTGCTAACACGCTA-1       1.982122       5.965252          6.077135   \n",
       "ATATGCCTAGATCC-1       2.041885       6.262560          6.100975   \n",
       "CAACGTGATCAAGC-1       2.198731       6.049339          6.163543   \n",
       "CTATCCCTCCACCT-1       2.209945       6.134276          6.168016   \n",
       "\n",
       "                  Corrected_Counts  \n",
       "index                               \n",
       "AGCATCGATAACCG-1          0.056362  \n",
       "TTGCTAACACGCTA-1         -0.111883  \n",
       "ATATGCCTAGATCC-1          0.161585  \n",
       "CAACGTGATCAAGC-1         -0.114204  \n",
       "CTATCCCTCCACCT-1         -0.033740  "
      ]
     },
     "execution_count": 34,
     "metadata": {},
     "output_type": "execute_result"
    }
   ],
   "source": [
    "residuals_df = cell_md_.copy()\n",
    "\n",
    "# get the model-estimated value for the gene count at each mitochondrial percentage value\n",
    "predicted_counts = lr.predict(cell_md_)\n",
    "\n",
    "residuals_df['Actual_Counts'] = counts_\n",
    "residuals_df['Predicted_Counts'] = predicted_counts\n",
    "\n",
    "# get the difference between the actual and model-estimated values\n",
    "residuals_df['Corrected_Counts'] = residuals_df.Actual_Counts - residuals_df.Predicted_Counts\n",
    "\n",
    "residuals_df.sort_values(by = regressor, inplace = True)\n",
    "residuals_df.head()"
   ]
  },
  {
   "cell_type": "markdown",
   "id": "696ead5b",
   "metadata": {},
   "source": [
    "We can see that the correlation between the new corrected counts and the mitochondrial percentage is now gone:\n",
    "    \n"
   ]
  },
  {
   "cell_type": "code",
   "execution_count": 35,
   "id": "4d0fc3e3",
   "metadata": {},
   "outputs": [
    {
     "name": "stdout",
     "output_type": "stream",
     "text": [
      "The correlation after correction is 8.45e-08\n"
     ]
    }
   ],
   "source": [
    "r = stats.pearsonr(residuals_df.Corrected_Counts, residuals_df[regressor]).statistic\n",
    "print('The correlation after correction is {:.2e}'.format(r))"
   ]
  },
  {
   "cell_type": "markdown",
   "id": "a0c7c9b2",
   "metadata": {},
   "source": [
    "We can see that the residual values no longer correlate with mitochondrial percentage, and also that the values are scaled. Note also that this essentially rotates that data about the OLS line of best fit:"
   ]
  },
  {
   "cell_type": "code",
   "execution_count": 39,
   "id": "9f2c7123",
   "metadata": {},
   "outputs": [
    {
     "data": {
      "text/plain": [
       "<matplotlib.lines.Line2D at 0x7f7d66b695b0>"
      ]
     },
     "execution_count": 39,
     "metadata": {},
     "output_type": "execute_result"
    },
    {
     "data": {
      "image/png": "[encoded data removed]",
      "text/plain": [
       "<Figure size 640x480 with 1 Axes>"
      ]
     },
     "metadata": {},
     "output_type": "display_data"
    }
   ],
   "source": [
    "fig, ax = plt.subplots()\n",
    "\n",
    "# plot the data\n",
    "sns.scatterplot(data = residuals_df, y = 'Corrected_Counts', x = regressor, ax = ax) \n",
    "ax.axhline(0, color = 'red')"
   ]
  },
  {
   "cell_type": "markdown",
   "id": "5d2dd148",
   "metadata": {},
   "source": [
    "Since we are considering two QC metrics (mitochondrial % & total counts), our actual model will actually be a multi-linear regression:"
   ]
  },
  {
   "cell_type": "code",
   "execution_count": 40,
   "id": "3ef218f8",
   "metadata": {},
   "outputs": [],
   "source": [
    "regressor = ['pct_counts_mt', 'total_counts']\n",
    "cell_md_ = cell_md.loc[counts_.index, regressor]"
   ]
  },
  {
   "cell_type": "code",
   "execution_count": 41,
   "id": "816f97e8",
   "metadata": {},
   "outputs": [
    {
     "name": "stdout",
     "output_type": "stream",
     "text": [
      "LR formula: DLEU7 ~ 7.180 + 0.075*MITO + -0.001*TOTAL_COUNTS\n"
     ]
    }
   ],
   "source": [
    "# do the regression\n",
    "lr = LinearRegression() #initialize the class\n",
    "lr.fit(y = counts_, X = cell_md_) # fit the regression model to the data\n",
    "\n",
    "print('LR formula: {} ~ {:.3f} + {:.3f}*MITO + {:.3f}*TOTAL_COUNTS'.format(gene, lr.intercept_, lr.coef_[0], \n",
    "                                                                           lr.coef_[1]))"
   ]
  },
  {
   "cell_type": "markdown",
   "id": "be79e221",
   "metadata": {},
   "source": [
    "In this particular example, it seems that the total counts has a small effect size (i.e., does not contribute much to the technical variation in the data). We can proceed with repeating the correction process:"
   ]
  },
  {
   "cell_type": "code",
   "execution_count": 42,
   "id": "17ffe328",
   "metadata": {},
   "outputs": [],
   "source": [
    "# get the model-estimated value for the gene count at each mitochondrial percentage value\n",
    "predicted_vals = lr.predict(cell_md_)\n",
    "# get the difference between the actual and model-estimated values\n",
    "corrected_counts = counts_ - predicted_vals"
   ]
  },
  {
   "cell_type": "markdown",
   "id": "0cb81b9f",
   "metadata": {},
   "source": [
    "## Categorical Variables for Differential Expression Testing"
   ]
  },
  {
   "cell_type": "markdown",
   "id": "e3503e51",
   "metadata": {},
   "source": [
    "Differential expression tests for relative differences in gene expression between two conditions. Regression analysis is often used for this purpose to account for the distribution of the data.    \n",
    "\n",
    "Here, let's try to identify markers of CD8+ T-cells, which involves testing for DE genes of cells annotated as CD8+ T-cells vs the rest of cells. Note that we have cell type annotations (the categorical variable of interest) from the processed data. Typically, we would first use an unsupervised learning approach to get cell clusters (see below), and then proceed to annotate the cell types from the cluster markers."
   ]
  },
  {
   "cell_type": "markdown",
   "id": "52412048",
   "metadata": {},
   "source": [
    "Some words on more complicated topics that we won't cover: \n",
    "\n",
    "1. Regression of categorical data with multiple categories is  analogous to ANOVAs. We do not show it here, but if you had 3 sample conditions (e.g., control, treatment A, treatment B), you could run a linear regression testing the different between each group mean and the control. If there is no control (treatments A-c), you can change the contasts to test for the different between the group and the grand mean\n",
    "2. We will use a simple linear regression, but most differential expresion tools will use a generalized linear model (GLM) that more accurately emulates the data distribution and eliminates some assumptions of simple linear regression. \n",
    "3. Furthermore, these models will often use a multi-variate regression to introduce a covariate that can account for technical confounders (e.g., a categorical variable annotating the batch or a continuous latent variable capturing the technical variance)\n",
    " \n",
    "Because of points 2-3, DE testing is often done using the raw rather than processed counts, unfiltered for HVGs. "
   ]
  },
  {
   "cell_type": "code",
   "execution_count": 43,
   "id": "6e8f2246",
   "metadata": {},
   "outputs": [
    {
     "data": {
      "text/html": [
       "<div>\n",
       "<style scoped>\n",
       "    .dataframe tbody tr th:only-of-type {\n",
       "        vertical-align: middle;\n",
       "    }\n",
       "\n",
       "    .dataframe tbody tr th {\n",
       "        vertical-align: top;\n",
       "    }\n",
       "\n",
       "    .dataframe thead th {\n",
       "        text-align: right;\n",
       "    }\n",
       "</style>\n",
       "<table border=\"1\" class=\"dataframe\">\n",
       "  <thead>\n",
       "    <tr style=\"text-align: right;\">\n",
       "      <th></th>\n",
       "      <th>n_genes</th>\n",
       "      <th>n_genes_by_counts</th>\n",
       "      <th>total_counts</th>\n",
       "      <th>total_counts_mt</th>\n",
       "      <th>pct_counts_mt</th>\n",
       "      <th>louvain</th>\n",
       "    </tr>\n",
       "    <tr>\n",
       "      <th>index</th>\n",
       "      <th></th>\n",
       "      <th></th>\n",
       "      <th></th>\n",
       "      <th></th>\n",
       "      <th></th>\n",
       "      <th></th>\n",
       "    </tr>\n",
       "  </thead>\n",
       "  <tbody>\n",
       "    <tr>\n",
       "      <th>AAACATACAACCAC-1</th>\n",
       "      <td>781</td>\n",
       "      <td>779</td>\n",
       "      <td>2419.0</td>\n",
       "      <td>73.0</td>\n",
       "      <td>3.017776</td>\n",
       "      <td>CD4 T cells</td>\n",
       "    </tr>\n",
       "    <tr>\n",
       "      <th>AAACATTGAGCTAC-1</th>\n",
       "      <td>1352</td>\n",
       "      <td>1352</td>\n",
       "      <td>4903.0</td>\n",
       "      <td>186.0</td>\n",
       "      <td>3.793596</td>\n",
       "      <td>B cells</td>\n",
       "    </tr>\n",
       "    <tr>\n",
       "      <th>AAACATTGATCAGC-1</th>\n",
       "      <td>1131</td>\n",
       "      <td>1129</td>\n",
       "      <td>3147.0</td>\n",
       "      <td>28.0</td>\n",
       "      <td>0.889736</td>\n",
       "      <td>CD4 T cells</td>\n",
       "    </tr>\n",
       "    <tr>\n",
       "      <th>AAACCGTGCTTCCG-1</th>\n",
       "      <td>960</td>\n",
       "      <td>960</td>\n",
       "      <td>2639.0</td>\n",
       "      <td>46.0</td>\n",
       "      <td>1.743085</td>\n",
       "      <td>CD14+ Monocytes</td>\n",
       "    </tr>\n",
       "    <tr>\n",
       "      <th>AAACCGTGTATGCG-1</th>\n",
       "      <td>522</td>\n",
       "      <td>521</td>\n",
       "      <td>980.0</td>\n",
       "      <td>12.0</td>\n",
       "      <td>1.224490</td>\n",
       "      <td>NK cells</td>\n",
       "    </tr>\n",
       "  </tbody>\n",
       "</table>\n",
       "</div>"
      ],
      "text/plain": [
       "                  n_genes  n_genes_by_counts  total_counts  total_counts_mt  \\\n",
       "index                                                                         \n",
       "AAACATACAACCAC-1      781                779        2419.0             73.0   \n",
       "AAACATTGAGCTAC-1     1352               1352        4903.0            186.0   \n",
       "AAACATTGATCAGC-1     1131               1129        3147.0             28.0   \n",
       "AAACCGTGCTTCCG-1      960                960        2639.0             46.0   \n",
       "AAACCGTGTATGCG-1      522                521         980.0             12.0   \n",
       "\n",
       "                  pct_counts_mt          louvain  \n",
       "index                                             \n",
       "AAACATACAACCAC-1       3.017776      CD4 T cells  \n",
       "AAACATTGAGCTAC-1       3.793596          B cells  \n",
       "AAACATTGATCAGC-1       0.889736      CD4 T cells  \n",
       "AAACCGTGCTTCCG-1       1.743085  CD14+ Monocytes  \n",
       "AAACCGTGTATGCG-1       1.224490         NK cells  "
      ]
     },
     "execution_count": 43,
     "metadata": {},
     "output_type": "execute_result"
    }
   ],
   "source": [
    "cell_md.head()"
   ]
  },
  {
   "cell_type": "code",
   "execution_count": 44,
   "id": "3fbc2993",
   "metadata": {},
   "outputs": [
    {
     "data": {
      "text/plain": [
       "['CD4 T cells', 'B cells', 'CD14+ Monocytes', 'NK cells', 'CD8 T cells', 'FCGR3A+ Monocytes', 'Dendritic cells', 'Megakaryocytes']\n",
       "Categories (8, object): ['CD4 T cells', 'CD14+ Monocytes', 'B cells', 'CD8 T cells', 'NK cells', 'FCGR3A+ Monocytes', 'Dendritic cells', 'Megakaryocytes']"
      ]
     },
     "execution_count": 44,
     "metadata": {},
     "output_type": "execute_result"
    }
   ],
   "source": [
    "cell_md.louvain.unique()"
   ]
  },
  {
   "cell_type": "code",
   "execution_count": 45,
   "id": "33a8c826",
   "metadata": {},
   "outputs": [],
   "source": [
    "# get the barcode of cells annotated as cd8\n",
    "cd8_barcodes = cell_md[cell_md.louvain == 'CD8 T cells'].index\n",
    "other_barcodes = cell_md[cell_md.louvain != 'CD8 T cells'].index\n",
    "\n",
    "# filter the raw data for annotated cell types, and order according to condition\n",
    "expr_raw = pd.concat([expr_raw.loc[cd8_barcodes, :], expr_raw.loc[other_barcodes, :]])"
   ]
  },
  {
   "cell_type": "markdown",
   "id": "9ef21de4",
   "metadata": {},
   "source": [
    "Let's begin with one gene as a simple example. We will proceed with granzyme A, a cytolytic molecule commonly secreted by CD8+ T-cells"
   ]
  },
  {
   "cell_type": "code",
   "execution_count": 46,
   "id": "93b6d166",
   "metadata": {},
   "outputs": [
    {
     "name": "stderr",
     "output_type": "stream",
     "text": [
      "/tmp/ipykernel_2701/1946113728.py:4: SettingWithCopyWarning: \n",
      "A value is trying to be set on a copy of a slice from a DataFrame.\n",
      "Try using .loc[row_indexer,col_indexer] = value instead\n",
      "\n",
      "See the caveats in the documentation: https://pandas.pydata.org/pandas-docs/stable/user_guide/indexing.html#returning-a-view-versus-a-copy\n",
      "  reg_df['Cell_Type'] = (['CD8'] * cd8_barcodes.shape[0]) + (['other'] * other_barcodes.shape[0])\n"
     ]
    },
    {
     "data": {
      "text/html": [
       "<div>\n",
       "<style scoped>\n",
       "    .dataframe tbody tr th:only-of-type {\n",
       "        vertical-align: middle;\n",
       "    }\n",
       "\n",
       "    .dataframe tbody tr th {\n",
       "        vertical-align: top;\n",
       "    }\n",
       "\n",
       "    .dataframe thead th {\n",
       "        text-align: right;\n",
       "    }\n",
       "</style>\n",
       "<table border=\"1\" class=\"dataframe\">\n",
       "  <thead>\n",
       "    <tr style=\"text-align: right;\">\n",
       "      <th>index</th>\n",
       "      <th>GZMA</th>\n",
       "      <th>Cell_Type</th>\n",
       "    </tr>\n",
       "    <tr>\n",
       "      <th>index</th>\n",
       "      <th></th>\n",
       "      <th></th>\n",
       "    </tr>\n",
       "  </thead>\n",
       "  <tbody>\n",
       "    <tr>\n",
       "      <th>AAACGCACTGGTAC-1</th>\n",
       "      <td>0.0</td>\n",
       "      <td>CD8</td>\n",
       "    </tr>\n",
       "    <tr>\n",
       "      <th>AAACGCTGACCAGT-1</th>\n",
       "      <td>1.0</td>\n",
       "      <td>CD8</td>\n",
       "    </tr>\n",
       "    <tr>\n",
       "      <th>AAACGCTGGTTCTT-1</th>\n",
       "      <td>5.0</td>\n",
       "      <td>CD8</td>\n",
       "    </tr>\n",
       "    <tr>\n",
       "      <th>AAAGAGACGGACTT-1</th>\n",
       "      <td>1.0</td>\n",
       "      <td>CD8</td>\n",
       "    </tr>\n",
       "    <tr>\n",
       "      <th>AAATCCCTCCACAA-1</th>\n",
       "      <td>2.0</td>\n",
       "      <td>CD8</td>\n",
       "    </tr>\n",
       "    <tr>\n",
       "      <th>...</th>\n",
       "      <td>...</td>\n",
       "      <td>...</td>\n",
       "    </tr>\n",
       "    <tr>\n",
       "      <th>TTTCGAACTCTCAT-1</th>\n",
       "      <td>0.0</td>\n",
       "      <td>other</td>\n",
       "    </tr>\n",
       "    <tr>\n",
       "      <th>TTTCTACTGAGGCA-1</th>\n",
       "      <td>0.0</td>\n",
       "      <td>other</td>\n",
       "    </tr>\n",
       "    <tr>\n",
       "      <th>TTTCTACTTCCTCG-1</th>\n",
       "      <td>0.0</td>\n",
       "      <td>other</td>\n",
       "    </tr>\n",
       "    <tr>\n",
       "      <th>TTTGCATGAGAGGC-1</th>\n",
       "      <td>0.0</td>\n",
       "      <td>other</td>\n",
       "    </tr>\n",
       "    <tr>\n",
       "      <th>TTTGCATGCCTCAC-1</th>\n",
       "      <td>0.0</td>\n",
       "      <td>other</td>\n",
       "    </tr>\n",
       "  </tbody>\n",
       "</table>\n",
       "<p>2638 rows × 2 columns</p>\n",
       "</div>"
      ],
      "text/plain": [
       "index             GZMA Cell_Type\n",
       "index                           \n",
       "AAACGCACTGGTAC-1   0.0       CD8\n",
       "AAACGCTGACCAGT-1   1.0       CD8\n",
       "AAACGCTGGTTCTT-1   5.0       CD8\n",
       "AAAGAGACGGACTT-1   1.0       CD8\n",
       "AAATCCCTCCACAA-1   2.0       CD8\n",
       "...                ...       ...\n",
       "TTTCGAACTCTCAT-1   0.0     other\n",
       "TTTCTACTGAGGCA-1   0.0     other\n",
       "TTTCTACTTCCTCG-1   0.0     other\n",
       "TTTGCATGAGAGGC-1   0.0     other\n",
       "TTTGCATGCCTCAC-1   0.0     other\n",
       "\n",
       "[2638 rows x 2 columns]"
      ]
     },
     "execution_count": 46,
     "metadata": {},
     "output_type": "execute_result"
    }
   ],
   "source": [
    "gene = 'GZMA'\n",
    "# format the data\n",
    "reg_df = expr_raw[[gene]]\n",
    "reg_df['Cell_Type'] = (['CD8'] * cd8_barcodes.shape[0]) + (['other'] * other_barcodes.shape[0])\n",
    "\n",
    "reg_df"
   ]
  },
  {
   "cell_type": "markdown",
   "id": "c0c27a49",
   "metadata": {},
   "source": [
    "We can see that there are in fact expression differences for granzyme A in CD8 T cells "
   ]
  },
  {
   "cell_type": "code",
   "execution_count": 47,
   "id": "b2a2e3ee",
   "metadata": {},
   "outputs": [
    {
     "data": {
      "image/png": "[encoded data removed]",
      "text/plain": [
       "<Figure size 640x480 with 1 Axes>"
      ]
     },
     "metadata": {},
     "output_type": "display_data"
    }
   ],
   "source": [
    "fig, ax = plt.subplots()\n",
    "sns.violinplot(data = reg_df, y = gene, x = 'Cell_Type', ax = ax)\n",
    "ax.set_ylim(ax.get_ylim()[0], 10);"
   ]
  },
  {
   "cell_type": "markdown",
   "id": "2971187f",
   "metadata": {},
   "source": [
    "Now, let's create the contasts:"
   ]
  },
  {
   "cell_type": "code",
   "execution_count": 48,
   "id": "a7d615e1",
   "metadata": {},
   "outputs": [
    {
     "name": "stderr",
     "output_type": "stream",
     "text": [
      "/tmp/ipykernel_2701/3911375542.py:3: SettingWithCopyWarning: \n",
      "A value is trying to be set on a copy of a slice from a DataFrame.\n",
      "Try using .loc[row_indexer,col_indexer] = value instead\n",
      "\n",
      "See the caveats in the documentation: https://pandas.pydata.org/pandas-docs/stable/user_guide/indexing.html#returning-a-view-versus-a-copy\n",
      "  reg_df['Cell_Type'] = pd.Categorical(reg_df['Cell_Type'],\n",
      "/tmp/ipykernel_2701/3911375542.py:9: SettingWithCopyWarning: \n",
      "A value is trying to be set on a copy of a slice from a DataFrame.\n",
      "Try using .loc[row_indexer,col_indexer] = value instead\n",
      "\n",
      "See the caveats in the documentation: https://pandas.pydata.org/pandas-docs/stable/user_guide/indexing.html#returning-a-view-versus-a-copy\n",
      "  reg_df['Contrast'] = pd.get_dummies(reg_df.Cell_Type, drop_first = True).iloc[:, 0]\n"
     ]
    },
    {
     "data": {
      "text/html": [
       "<div>\n",
       "<style scoped>\n",
       "    .dataframe tbody tr th:only-of-type {\n",
       "        vertical-align: middle;\n",
       "    }\n",
       "\n",
       "    .dataframe tbody tr th {\n",
       "        vertical-align: top;\n",
       "    }\n",
       "\n",
       "    .dataframe thead th {\n",
       "        text-align: right;\n",
       "    }\n",
       "</style>\n",
       "<table border=\"1\" class=\"dataframe\">\n",
       "  <thead>\n",
       "    <tr style=\"text-align: right;\">\n",
       "      <th>index</th>\n",
       "      <th>GZMA</th>\n",
       "      <th>Cell_Type</th>\n",
       "      <th>Contrast</th>\n",
       "    </tr>\n",
       "    <tr>\n",
       "      <th>index</th>\n",
       "      <th></th>\n",
       "      <th></th>\n",
       "      <th></th>\n",
       "    </tr>\n",
       "  </thead>\n",
       "  <tbody>\n",
       "    <tr>\n",
       "      <th>AAACGCACTGGTAC-1</th>\n",
       "      <td>0.0</td>\n",
       "      <td>CD8</td>\n",
       "      <td>1</td>\n",
       "    </tr>\n",
       "    <tr>\n",
       "      <th>AAACGCTGACCAGT-1</th>\n",
       "      <td>1.0</td>\n",
       "      <td>CD8</td>\n",
       "      <td>1</td>\n",
       "    </tr>\n",
       "    <tr>\n",
       "      <th>AAACGCTGGTTCTT-1</th>\n",
       "      <td>5.0</td>\n",
       "      <td>CD8</td>\n",
       "      <td>1</td>\n",
       "    </tr>\n",
       "    <tr>\n",
       "      <th>AAAGAGACGGACTT-1</th>\n",
       "      <td>1.0</td>\n",
       "      <td>CD8</td>\n",
       "      <td>1</td>\n",
       "    </tr>\n",
       "    <tr>\n",
       "      <th>AAATCCCTCCACAA-1</th>\n",
       "      <td>2.0</td>\n",
       "      <td>CD8</td>\n",
       "      <td>1</td>\n",
       "    </tr>\n",
       "    <tr>\n",
       "      <th>...</th>\n",
       "      <td>...</td>\n",
       "      <td>...</td>\n",
       "      <td>...</td>\n",
       "    </tr>\n",
       "    <tr>\n",
       "      <th>TTTCGAACTCTCAT-1</th>\n",
       "      <td>0.0</td>\n",
       "      <td>other</td>\n",
       "      <td>0</td>\n",
       "    </tr>\n",
       "    <tr>\n",
       "      <th>TTTCTACTGAGGCA-1</th>\n",
       "      <td>0.0</td>\n",
       "      <td>other</td>\n",
       "      <td>0</td>\n",
       "    </tr>\n",
       "    <tr>\n",
       "      <th>TTTCTACTTCCTCG-1</th>\n",
       "      <td>0.0</td>\n",
       "      <td>other</td>\n",
       "      <td>0</td>\n",
       "    </tr>\n",
       "    <tr>\n",
       "      <th>TTTGCATGAGAGGC-1</th>\n",
       "      <td>0.0</td>\n",
       "      <td>other</td>\n",
       "      <td>0</td>\n",
       "    </tr>\n",
       "    <tr>\n",
       "      <th>TTTGCATGCCTCAC-1</th>\n",
       "      <td>0.0</td>\n",
       "      <td>other</td>\n",
       "      <td>0</td>\n",
       "    </tr>\n",
       "  </tbody>\n",
       "</table>\n",
       "<p>2638 rows × 3 columns</p>\n",
       "</div>"
      ],
      "text/plain": [
       "index             GZMA Cell_Type  Contrast\n",
       "index                                     \n",
       "AAACGCACTGGTAC-1   0.0       CD8         1\n",
       "AAACGCTGACCAGT-1   1.0       CD8         1\n",
       "AAACGCTGGTTCTT-1   5.0       CD8         1\n",
       "AAAGAGACGGACTT-1   1.0       CD8         1\n",
       "AAATCCCTCCACAA-1   2.0       CD8         1\n",
       "...                ...       ...       ...\n",
       "TTTCGAACTCTCAT-1   0.0     other         0\n",
       "TTTCTACTGAGGCA-1   0.0     other         0\n",
       "TTTCTACTTCCTCG-1   0.0     other         0\n",
       "TTTGCATGAGAGGC-1   0.0     other         0\n",
       "TTTGCATGCCTCAC-1   0.0     other         0\n",
       "\n",
       "[2638 rows x 3 columns]"
      ]
     },
     "execution_count": 48,
     "metadata": {},
     "output_type": "execute_result"
    }
   ],
   "source": [
    "# ordering the categorical data will ensure that we are testing for CD8 expression relative to the rest, rather\n",
    "# than vice-versa\n",
    "reg_df['Cell_Type'] = pd.Categorical(reg_df['Cell_Type'], \n",
    "                                     ordered=True, categories=['other', 'CD8'])\n",
    "\n",
    "# get the dummy variables\n",
    "# dropping the first category resolves issues of multi-collinearity\n",
    "# the first category is instead encoded by all 0s (the intercept)\n",
    "reg_df['Contrast'] = pd.get_dummies(reg_df.Cell_Type, drop_first = True).iloc[:, 0]\n",
    "reg_df"
   ]
  },
  {
   "cell_type": "markdown",
   "id": "ece51662",
   "metadata": {},
   "source": [
    "#### Aside\n",
    "\n",
    "imagine we had 3 conditions - treatment A, treatment B, and a control. Then, the contrasts would be more complicated and the regression would include more coefficients (gene ~ TreatA + TreatB):"
   ]
  },
  {
   "cell_type": "code",
   "execution_count": 49,
   "id": "7480b826",
   "metadata": {},
   "outputs": [
    {
     "data": {
      "text/html": [
       "<div>\n",
       "<style scoped>\n",
       "    .dataframe tbody tr th:only-of-type {\n",
       "        vertical-align: middle;\n",
       "    }\n",
       "\n",
       "    .dataframe tbody tr th {\n",
       "        vertical-align: top;\n",
       "    }\n",
       "\n",
       "    .dataframe thead th {\n",
       "        text-align: right;\n",
       "    }\n",
       "</style>\n",
       "<table border=\"1\" class=\"dataframe\">\n",
       "  <thead>\n",
       "    <tr style=\"text-align: right;\">\n",
       "      <th></th>\n",
       "      <th>GZMA</th>\n",
       "      <th>Treatment</th>\n",
       "      <th>TreatA</th>\n",
       "      <th>TreatB</th>\n",
       "    </tr>\n",
       "    <tr>\n",
       "      <th>index</th>\n",
       "      <th></th>\n",
       "      <th></th>\n",
       "      <th></th>\n",
       "      <th></th>\n",
       "    </tr>\n",
       "  </thead>\n",
       "  <tbody>\n",
       "    <tr>\n",
       "      <th>AAACGCACTGGTAC-1</th>\n",
       "      <td>0.0</td>\n",
       "      <td>Control</td>\n",
       "      <td>0</td>\n",
       "      <td>0</td>\n",
       "    </tr>\n",
       "    <tr>\n",
       "      <th>AAACGCTGACCAGT-1</th>\n",
       "      <td>1.0</td>\n",
       "      <td>TreatA</td>\n",
       "      <td>1</td>\n",
       "      <td>0</td>\n",
       "    </tr>\n",
       "    <tr>\n",
       "      <th>AAACGCTGGTTCTT-1</th>\n",
       "      <td>5.0</td>\n",
       "      <td>TreatB</td>\n",
       "      <td>0</td>\n",
       "      <td>1</td>\n",
       "    </tr>\n",
       "    <tr>\n",
       "      <th>AAAGAGACGGACTT-1</th>\n",
       "      <td>1.0</td>\n",
       "      <td>TreatA</td>\n",
       "      <td>1</td>\n",
       "      <td>0</td>\n",
       "    </tr>\n",
       "    <tr>\n",
       "      <th>AAATCCCTCCACAA-1</th>\n",
       "      <td>2.0</td>\n",
       "      <td>TreatA</td>\n",
       "      <td>1</td>\n",
       "      <td>0</td>\n",
       "    </tr>\n",
       "    <tr>\n",
       "      <th>...</th>\n",
       "      <td>...</td>\n",
       "      <td>...</td>\n",
       "      <td>...</td>\n",
       "      <td>...</td>\n",
       "    </tr>\n",
       "    <tr>\n",
       "      <th>TTTCGAACTCTCAT-1</th>\n",
       "      <td>0.0</td>\n",
       "      <td>Control</td>\n",
       "      <td>0</td>\n",
       "      <td>0</td>\n",
       "    </tr>\n",
       "    <tr>\n",
       "      <th>TTTCTACTGAGGCA-1</th>\n",
       "      <td>0.0</td>\n",
       "      <td>TreatB</td>\n",
       "      <td>0</td>\n",
       "      <td>1</td>\n",
       "    </tr>\n",
       "    <tr>\n",
       "      <th>TTTCTACTTCCTCG-1</th>\n",
       "      <td>0.0</td>\n",
       "      <td>TreatA</td>\n",
       "      <td>1</td>\n",
       "      <td>0</td>\n",
       "    </tr>\n",
       "    <tr>\n",
       "      <th>TTTGCATGAGAGGC-1</th>\n",
       "      <td>0.0</td>\n",
       "      <td>TreatA</td>\n",
       "      <td>1</td>\n",
       "      <td>0</td>\n",
       "    </tr>\n",
       "    <tr>\n",
       "      <th>TTTGCATGCCTCAC-1</th>\n",
       "      <td>0.0</td>\n",
       "      <td>TreatB</td>\n",
       "      <td>0</td>\n",
       "      <td>1</td>\n",
       "    </tr>\n",
       "  </tbody>\n",
       "</table>\n",
       "<p>2638 rows × 4 columns</p>\n",
       "</div>"
      ],
      "text/plain": [
       "                  GZMA Treatment  TreatA  TreatB\n",
       "index                                           \n",
       "AAACGCACTGGTAC-1   0.0   Control       0       0\n",
       "AAACGCTGACCAGT-1   1.0    TreatA       1       0\n",
       "AAACGCTGGTTCTT-1   5.0    TreatB       0       1\n",
       "AAAGAGACGGACTT-1   1.0    TreatA       1       0\n",
       "AAATCCCTCCACAA-1   2.0    TreatA       1       0\n",
       "...                ...       ...     ...     ...\n",
       "TTTCGAACTCTCAT-1   0.0   Control       0       0\n",
       "TTTCTACTGAGGCA-1   0.0    TreatB       0       1\n",
       "TTTCTACTTCCTCG-1   0.0    TreatA       1       0\n",
       "TTTGCATGAGAGGC-1   0.0    TreatA       1       0\n",
       "TTTGCATGCCTCAC-1   0.0    TreatB       0       1\n",
       "\n",
       "[2638 rows x 4 columns]"
      ]
     },
     "execution_count": 49,
     "metadata": {},
     "output_type": "execute_result"
    }
   ],
   "source": [
    "example_df = reg_df.copy()\n",
    "\n",
    "random.seed(888)\n",
    "conditions = ['Control', 'TreatA', 'TreatB']\n",
    "treatment = random.choices(conditions, k = reg_df.shape[0])\n",
    "example_df['Treatment'] = pd.Categorical(treatment, ordered=True, categories=conditions)\n",
    "\n",
    "pd.concat([example_df[[gene, 'Treatment']], pd.get_dummies(example_df.Treatment, drop_first = True)], axis = 1)"
   ]
  },
  {
   "cell_type": "markdown",
   "id": "2695b7ac",
   "metadata": {},
   "source": [
    "Now that we have our contrast, we can run the regression model:"
   ]
  },
  {
   "cell_type": "code",
   "execution_count": 50,
   "id": "688553ec",
   "metadata": {},
   "outputs": [
    {
     "data": {
      "text/html": [
       "<style>#sk-container-id-1 {color: black;background-color: white;}#sk-container-id-1 pre{padding: 0;}#sk-container-id-1 div.sk-toggleable {background-color: white;}#sk-container-id-1 label.sk-toggleable__label {cursor: pointer;display: block;width: 100%;margin-bottom: 0;padding: 0.3em;box-sizing: border-box;text-align: center;}#sk-container-id-1 label.sk-toggleable__label-arrow:before {content: \"▸\";float: left;margin-right: 0.25em;color: #696969;}#sk-container-id-1 label.sk-toggleable__label-arrow:hover:before {color: black;}#sk-container-id-1 div.sk-estimator:hover label.sk-toggleable__label-arrow:before {color: black;}#sk-container-id-1 div.sk-toggleable__content {max-height: 0;max-width: 0;overflow: hidden;text-align: left;background-color: #f0f8ff;}#sk-container-id-1 div.sk-toggleable__content pre {margin: 0.2em;color: black;border-radius: 0.25em;background-color: #f0f8ff;}#sk-container-id-1 input.sk-toggleable__control:checked~div.sk-toggleable__content {max-height: 200px;max-width: 100%;overflow: auto;}#sk-container-id-1 input.sk-toggleable__control:checked~label.sk-toggleable__label-arrow:before {content: \"▾\";}#sk-container-id-1 div.sk-estimator input.sk-toggleable__control:checked~label.sk-toggleable__label {background-color: #d4ebff;}#sk-container-id-1 div.sk-label input.sk-toggleable__control:checked~label.sk-toggleable__label {background-color: #d4ebff;}#sk-container-id-1 input.sk-hidden--visually {border: 0;clip: rect(1px 1px 1px 1px);clip: rect(1px, 1px, 1px, 1px);height: 1px;margin: -1px;overflow: hidden;padding: 0;position: absolute;width: 1px;}#sk-container-id-1 div.sk-estimator {font-family: monospace;background-color: #f0f8ff;border: 1px dotted black;border-radius: 0.25em;box-sizing: border-box;margin-bottom: 0.5em;}#sk-container-id-1 div.sk-estimator:hover {background-color: #d4ebff;}#sk-container-id-1 div.sk-parallel-item::after {content: \"\";width: 100%;border-bottom: 1px solid gray;flex-grow: 1;}#sk-container-id-1 div.sk-label:hover label.sk-toggleable__label {background-color: #d4ebff;}#sk-container-id-1 div.sk-serial::before {content: \"\";position: absolute;border-left: 1px solid gray;box-sizing: border-box;top: 0;bottom: 0;left: 50%;z-index: 0;}#sk-container-id-1 div.sk-serial {display: flex;flex-direction: column;align-items: center;background-color: white;padding-right: 0.2em;padding-left: 0.2em;position: relative;}#sk-container-id-1 div.sk-item {position: relative;z-index: 1;}#sk-container-id-1 div.sk-parallel {display: flex;align-items: stretch;justify-content: center;background-color: white;position: relative;}#sk-container-id-1 div.sk-item::before, #sk-container-id-1 div.sk-parallel-item::before {content: \"\";position: absolute;border-left: 1px solid gray;box-sizing: border-box;top: 0;bottom: 0;left: 50%;z-index: -1;}#sk-container-id-1 div.sk-parallel-item {display: flex;flex-direction: column;z-index: 1;position: relative;background-color: white;}#sk-container-id-1 div.sk-parallel-item:first-child::after {align-self: flex-end;width: 50%;}#sk-container-id-1 div.sk-parallel-item:last-child::after {align-self: flex-start;width: 50%;}#sk-container-id-1 div.sk-parallel-item:only-child::after {width: 0;}#sk-container-id-1 div.sk-dashed-wrapped {border: 1px dashed gray;margin: 0 0.4em 0.5em 0.4em;box-sizing: border-box;padding-bottom: 0.4em;background-color: white;}#sk-container-id-1 div.sk-label label {font-family: monospace;font-weight: bold;display: inline-block;line-height: 1.2em;}#sk-container-id-1 div.sk-label-container {text-align: center;}#sk-container-id-1 div.sk-container {/* jupyter's `normalize.less` sets `[hidden] { display: none; }` but bootstrap.min.css set `[hidden] { display: none !important; }` so we also need the `!important` here to be able to override the default hidden behavior on the sphinx rendered scikit-learn.org. See: https://github.com/scikit-learn/scikit-learn/issues/21755 */display: inline-block !important;position: relative;}#sk-container-id-1 div.sk-text-repr-fallback {display: none;}</style><div id=\"sk-container-id-1\" class=\"sk-top-container\"><div class=\"sk-text-repr-fallback\"><pre>LinearRegression()</pre><b>In a Jupyter environment, please rerun this cell to show the HTML representation or trust the notebook. <br />On GitHub, the HTML representation is unable to render, please try loading this page with nbviewer.org.</b></div><div class=\"sk-container\" hidden><div class=\"sk-item\"><div class=\"sk-estimator sk-toggleable\"><input class=\"sk-toggleable__control sk-hidden--visually\" id=\"sk-estimator-id-1\" type=\"checkbox\" checked><label for=\"sk-estimator-id-1\" class=\"sk-toggleable__label sk-toggleable__label-arrow\">LinearRegression</label><div class=\"sk-toggleable__content\"><pre>LinearRegression()</pre></div></div></div></div></div>"
      ],
      "text/plain": [
       "LinearRegression()"
      ]
     },
     "execution_count": 50,
     "metadata": {},
     "output_type": "execute_result"
    }
   ],
   "source": [
    "# do the regression\n",
    "lr = LinearRegression() #initialize the class\n",
    "lr.fit(y = reg_df[gene], X = reg_df[['Contrast']]) # fit the regression model to the data\n"
   ]
  },
  {
   "cell_type": "markdown",
   "id": "8689cd00",
   "metadata": {},
   "source": [
    "Interpretation\n",
    "\n",
    "1. The intercept is the expected mean of granzyme A expression in the non CD8Tcells (when Contrast = 0)\n",
    "2. The coefficient is the expected change in granzyme A expression in CD8 T-cells relative to the rest of cells "
   ]
  },
  {
   "cell_type": "code",
   "execution_count": 51,
   "id": "a31a71d1",
   "metadata": {},
   "outputs": [
    {
     "name": "stdout",
     "output_type": "stream",
     "text": [
      "The regression intecept is 0.39\n",
      "The average expression of granzyme A in non CD8+ T-cells is is 0.39\n"
     ]
    }
   ],
   "source": [
    "print('The regression intecept is {:.2f}'.format(lr.intercept_))\n",
    "\n",
    "mean_gzm_other = reg_df[reg_df.Cell_Type == 'other'][gene].mean()\n",
    "print('The average expression of granzyme A in non CD8+ T-cells is is {:.2f}'.format(mean_gzm_other))"
   ]
  },
  {
   "cell_type": "code",
   "execution_count": 52,
   "id": "f489148c",
   "metadata": {},
   "outputs": [
    {
     "name": "stdout",
     "output_type": "stream",
     "text": [
      "The regression coefficient is 1.69\n",
      "The log-fold-change in average expression of granzyme A between CD8+ T-cells and the rest is 1.69\n"
     ]
    }
   ],
   "source": [
    "print('The regression coefficient is {:.2f}'.format(lr.coef_[0]))\n",
    "\n",
    "mean_gzm_cd8 = reg_df[reg_df.Cell_Type == 'CD8'][gene].mean()\n",
    "log_fold_change = np.log(mean_gzm_cd8/mean_gzm_other)\n",
    "\n",
    "print('The log-fold-change in average expression of granzyme A between CD8+ T-cells and the rest is {:.2f}'.format(log_fold_change))"
   ]
  },
  {
   "cell_type": "markdown",
   "id": "4f99d6c9",
   "metadata": {},
   "source": [
    "Furthermore, regression coefficient's have a p-value associated with them (t-test or Wald's test), so we have both the effect size (coefficient value) and significance (p-value) of the differential expression for this gene. DE testing simply extends this to all genes (must add a multiple test correction for the p-values). Use the statsmodels package to get the p-values. "
   ]
  },
  {
   "cell_type": "markdown",
   "id": "9c2296fe",
   "metadata": {},
   "source": [
    "Again, note that to correct for some technical covariate, we could simply add it to the regression model and follow the same interpretation for the Contrast coefficient we already incorporated here (gene ~ B_0 + B_1 x Contrast + B_2 x Technical_Covariate)"
   ]
  },
  {
   "cell_type": "markdown",
   "id": "60b60536",
   "metadata": {},
   "source": [
    "# Classification"
   ]
  },
  {
   "cell_type": "markdown",
   "id": "4092af8b",
   "metadata": {},
   "source": [
    "# Dimensionality Reduction"
   ]
  },
  {
   "cell_type": "code",
   "execution_count": null,
   "id": "4c63d877",
   "metadata": {},
   "outputs": [],
   "source": []
  },
  {
   "cell_type": "markdown",
   "id": "dd061ff3",
   "metadata": {},
   "source": [
    "# Clustering"
   ]
  }
 ],
 "metadata": {
  "kernelspec": {
   "display_name": "Python [conda env:bootcamp] *",
   "language": "python",
   "name": "conda-env-bootcamp-py"
  },
  "language_info": {
   "codemirror_mode": {
    "name": "ipython",
    "version": 3
   },
   "file_extension": ".py",
   "mimetype": "text/x-python",
   "name": "python",
   "nbconvert_exporter": "python",
   "pygments_lexer": "ipython3",
   "version": "3.9.5"
  }
 },
 "nbformat": 4,
 "nbformat_minor": 5
}
